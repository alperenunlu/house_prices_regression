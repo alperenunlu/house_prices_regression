{
 "cells": [
  {
   "cell_type": "markdown",
   "id": "7b137d54",
   "metadata": {
    "papermill": {
     "duration": 0.009866,
     "end_time": "2023-05-02T22:27:18.415609",
     "exception": false,
     "start_time": "2023-05-02T22:27:18.405743",
     "status": "completed"
    },
    "tags": []
   },
   "source": [
    "# Introduction #\n",
    "\n",
    "Welcome to the feature engineering project for the [House Prices - Advanced Regression Techniques](https://www.kaggle.com/c/house-prices-advanced-regression-techniques) competition! This is a project i put together a lot of methods.\n",
    "\n",
    "\n",
    "# Step 1 - Preliminaries #\n",
    "## Imports and Configuration ##\n",
    "\n",
    "We'll start by importing the packages we used in the exercises and setting some notebook defaults."
   ]
  },
  {
   "cell_type": "code",
   "execution_count": 1,
   "id": "c3654f52",
   "metadata": {
    "ExecuteTime": {
     "end_time": "2023-05-02T23:43:53.187704Z",
     "start_time": "2023-05-02T23:43:52.852220Z"
    },
    "_kg_hide-input": true,
    "execution": {
     "iopub.execute_input": "2023-05-02T22:27:18.435947Z",
     "iopub.status.busy": "2023-05-02T22:27:18.435260Z",
     "iopub.status.idle": "2023-05-02T22:27:21.435728Z",
     "shell.execute_reply": "2023-05-02T22:27:21.434133Z"
    },
    "papermill": {
     "duration": 3.013668,
     "end_time": "2023-05-02T22:27:21.438531",
     "exception": false,
     "start_time": "2023-05-02T22:27:18.424863",
     "status": "completed"
    },
    "tags": []
   },
   "outputs": [],
   "source": [
    "import warnings\n",
    "from pathlib import Path\n",
    "\n",
    "# Mute warnings\n",
    "warnings.filterwarnings('ignore')\n",
    "\n",
    "import matplotlib.pyplot as plt\n",
    "import numpy as np\n",
    "import pandas as pd\n",
    "import seaborn as sns\n",
    "from pandas.api.types import CategoricalDtype\n",
    "\n",
    "from sklearn.cluster import KMeans\n",
    "from sklearn.feature_selection import mutual_info_regression\n",
    "from sklearn.model_selection import KFold, cross_val_score\n",
    "from sklearn.model_selection import RepeatedKFold\n",
    "from category_encoders import MEstimateEncoder\n",
    "from sklearn.preprocessing import RobustScaler\n",
    "from sklearn.decomposition import PCA\n",
    "\n",
    "from skopt import space, gp_minimize\n",
    "from xgboost import XGBRegressor\n",
    "\n",
    "# Set Matplotlib defaults\n",
    "plt.rc(\"figure\", autolayout=True)\n",
    "plt.rc(\n",
    "    \"axes\",\n",
    "    labelweight=\"bold\",\n",
    "    labelsize=\"large\",\n",
    "    titleweight=\"bold\",\n",
    "    titlesize=14,\n",
    "    titlepad=10,\n",
    ")"
   ]
  },
  {
   "cell_type": "markdown",
   "id": "0fca8a3a",
   "metadata": {
    "papermill": {
     "duration": 0.009009,
     "end_time": "2023-05-02T22:27:21.456741",
     "exception": false,
     "start_time": "2023-05-02T22:27:21.447732",
     "status": "completed"
    },
    "tags": []
   },
   "source": [
    "## Data Preprocessing ##\n",
    "\n",
    "Before we can do any feature engineering, we need to *preprocess* the data to get it in a form suitable for analysis. For the *Ames* competition dataset, we'll need to:\n",
    "- **Load** the data from CSV files\n",
    "- **Clean** the data to fix any errors or inconsistencies\n",
    "- **Encode** the statistical data type (numeric, categorical)\n",
    "- **Impute** any missing values"
   ]
  },
  {
   "cell_type": "code",
   "execution_count": 2,
   "id": "bb5ebf84",
   "metadata": {
    "ExecuteTime": {
     "end_time": "2023-05-02T23:43:53.191089Z",
     "start_time": "2023-05-02T23:43:53.189336Z"
    },
    "execution": {
     "iopub.execute_input": "2023-05-02T22:27:21.476757Z",
     "iopub.status.busy": "2023-05-02T22:27:21.476256Z",
     "iopub.status.idle": "2023-05-02T22:27:21.483393Z",
     "shell.execute_reply": "2023-05-02T22:27:21.482128Z"
    },
    "papermill": {
     "duration": 0.020256,
     "end_time": "2023-05-02T22:27:21.486029",
     "exception": false,
     "start_time": "2023-05-02T22:27:21.465773",
     "status": "completed"
    },
    "tags": []
   },
   "outputs": [],
   "source": [
    "def load_data():\n",
    "    # Read data\n",
    "    data_dir = Path(\"../input/house-prices-advanced-regression-techniques/\")\n",
    "    df_train = pd.read_csv(data_dir / \"train.csv\", index_col=\"Id\")\n",
    "    df_test = pd.read_csv(data_dir / \"test.csv\", index_col=\"Id\")\n",
    "    # Merge the splits so we can process them together\n",
    "    df = pd.concat([df_train, df_test])\n",
    "    # Preprocessing\n",
    "    df = clean(df)\n",
    "    df = encode(df)\n",
    "    df = impute(df)\n",
    "    # Reform splits\n",
    "    df_train = df.loc[df_train.index, :]\n",
    "    df_test = df.loc[df_test.index, :]\n",
    "    return df_train, df_test\n"
   ]
  },
  {
   "cell_type": "markdown",
   "id": "fa6c8489",
   "metadata": {
    "papermill": {
     "duration": 0.009124,
     "end_time": "2023-05-02T22:27:21.505028",
     "exception": false,
     "start_time": "2023-05-02T22:27:21.495904",
     "status": "completed"
    },
    "tags": []
   },
   "source": [
    "### Clean Data ###\n",
    "\n",
    "Some of the categorical features in this dataset have what are apparently typos in their categories:"
   ]
  },
  {
   "cell_type": "markdown",
   "id": "07244a96",
   "metadata": {
    "papermill": {
     "duration": 0.00919,
     "end_time": "2023-05-02T22:27:21.523544",
     "exception": false,
     "start_time": "2023-05-02T22:27:21.514354",
     "status": "completed"
    },
    "tags": []
   },
   "source": [
    "Comparing these to `data_description.txt` shows us what needs cleaning. We'll take care of a couple of issues here."
   ]
  },
  {
   "cell_type": "code",
   "execution_count": 3,
   "id": "54931f3d",
   "metadata": {
    "ExecuteTime": {
     "end_time": "2023-05-02T23:43:53.193650Z",
     "start_time": "2023-05-02T23:43:53.192378Z"
    },
    "execution": {
     "iopub.execute_input": "2023-05-02T22:27:21.543308Z",
     "iopub.status.busy": "2023-05-02T22:27:21.542914Z",
     "iopub.status.idle": "2023-05-02T22:27:21.549019Z",
     "shell.execute_reply": "2023-05-02T22:27:21.548091Z"
    },
    "papermill": {
     "duration": 0.018473,
     "end_time": "2023-05-02T22:27:21.551145",
     "exception": false,
     "start_time": "2023-05-02T22:27:21.532672",
     "status": "completed"
    },
    "tags": []
   },
   "outputs": [],
   "source": [
    "def clean(df):\n",
    "    df[\"Exterior2nd\"] = df[\"Exterior2nd\"].replace({\"Brk Cmn\": \"BrkComm\"})\n",
    "    # Some values of GarageYrBlt are corrupt, so we'll replace them\n",
    "    # with the year the house was built\n",
    "    df[\"GarageYrBlt\"] = df[\"GarageYrBlt\"].where(df.GarageYrBlt <= 2010, df.YearBuilt)\n",
    "    # Names beginning with numbers are awkward to work with\n",
    "    df = df.rename(columns={\n",
    "        \"1stFlrSF\": \"FirstFlrSF\",\n",
    "        \"2ndFlrSF\": \"SecondFlrSF\",\n",
    "        \"3SsnPorch\": \"Threeseasonporch\",\n",
    "    })\n",
    "    return df\n"
   ]
  },
  {
   "cell_type": "markdown",
   "id": "2a187469",
   "metadata": {
    "papermill": {
     "duration": 0.009479,
     "end_time": "2023-05-02T22:27:21.569848",
     "exception": false,
     "start_time": "2023-05-02T22:27:21.560369",
     "status": "completed"
    },
    "tags": []
   },
   "source": [
    "### Encode the Statistical Data Type ###\n",
    "\n",
    "Pandas has Python types corresponding to the standard statistical types (numeric, categorical, etc.). Encoding each feature with its correct type helps ensure each feature is treated appropriately by whatever functions we use, and makes it easier for us to apply transformations consistently."
   ]
  },
  {
   "cell_type": "code",
   "execution_count": 4,
   "id": "1c2a503b",
   "metadata": {
    "ExecuteTime": {
     "end_time": "2023-05-02T23:43:53.199980Z",
     "start_time": "2023-05-02T23:43:53.198466Z"
    },
    "_kg_hide-input": true,
    "execution": {
     "iopub.execute_input": "2023-05-02T22:27:21.590421Z",
     "iopub.status.busy": "2023-05-02T22:27:21.589837Z",
     "iopub.status.idle": "2023-05-02T22:27:21.600862Z",
     "shell.execute_reply": "2023-05-02T22:27:21.599740Z"
    },
    "papermill": {
     "duration": 0.024294,
     "end_time": "2023-05-02T22:27:21.603343",
     "exception": false,
     "start_time": "2023-05-02T22:27:21.579049",
     "status": "completed"
    },
    "tags": []
   },
   "outputs": [],
   "source": [
    "## # The numeric features are already encoded correctly (`float` for\n",
    "# continuous, `int` for discrete), but the categoricals we'll need to\n",
    "# do ourselves. Note in particular, that the `MSSubClass` feature is\n",
    "# read as an `int` type, but is actually a (nominative) categorical.\n",
    "\n",
    "# The nominative (unordered) categorical features\n",
    "features_nom = [\"MSSubClass\", \"MSZoning\", \"Street\", \"Alley\", \"LandContour\", \"LotConfig\", \"Neighborhood\", \"Condition1\",\n",
    "                \"Condition2\", \"BldgType\", \"HouseStyle\", \"RoofStyle\", \"RoofMatl\", \"Exterior1st\", \"Exterior2nd\",\n",
    "                \"MasVnrType\", \"Foundation\", \"Heating\", \"CentralAir\", \"GarageType\", \"MiscFeature\", \"SaleType\",\n",
    "                \"SaleCondition\"]\n",
    "\n",
    "# The ordinal (ordered) categorical features\n",
    "\n",
    "# Pandas calls the categories \"levels\"\n",
    "five_levels = [\"Po\", \"Fa\", \"TA\", \"Gd\", \"Ex\"]\n",
    "ten_levels = list(range(1, 11))\n",
    "\n",
    "ordered_levels = {\n",
    "    \"OverallQual\": ten_levels,\n",
    "    \"OverallCond\": ten_levels,\n",
    "    \"ExterQual\": five_levels,\n",
    "    \"ExterCond\": five_levels,\n",
    "    \"BsmtQual\": five_levels,\n",
    "    \"BsmtCond\": five_levels,\n",
    "    \"HeatingQC\": five_levels,\n",
    "    \"KitchenQual\": five_levels,\n",
    "    \"FireplaceQu\": five_levels,\n",
    "    \"GarageQual\": five_levels,\n",
    "    \"GarageCond\": five_levels,\n",
    "    \"PoolQC\": five_levels,\n",
    "    \"LotShape\": [\"Reg\", \"IR1\", \"IR2\", \"IR3\"],\n",
    "    \"LandSlope\": [\"Sev\", \"Mod\", \"Gtl\"],\n",
    "    \"BsmtExposure\": [\"No\", \"Mn\", \"Av\", \"Gd\"],\n",
    "    \"BsmtFinType1\": [\"Unf\", \"LwQ\", \"Rec\", \"BLQ\", \"ALQ\", \"GLQ\"],\n",
    "    \"BsmtFinType2\": [\"Unf\", \"LwQ\", \"Rec\", \"BLQ\", \"ALQ\", \"GLQ\"],\n",
    "    \"Functional\": [\"Sal\", \"Sev\", \"Maj1\", \"Maj2\", \"Mod\", \"Min2\", \"Min1\", \"Typ\"],\n",
    "    \"GarageFinish\": [\"Unf\", \"RFn\", \"Fin\"],\n",
    "    \"PavedDrive\": [\"N\", \"P\", \"Y\"],\n",
    "    \"Utilities\": [\"NoSeWa\", \"NoSewr\", \"AllPub\"],\n",
    "    \"CentralAir\": [\"N\", \"Y\"],\n",
    "    \"Electrical\": [\"Mix\", \"FuseP\", \"FuseF\", \"FuseA\", \"SBrkr\"],\n",
    "    \"Fence\": [\"MnWw\", \"GdWo\", \"MnPrv\", \"GdPrv\"],\n",
    "}\n",
    "\n",
    "# Add a None level for missing values\n",
    "ordered_levels = {key: [\"None\"] + value for key, value in\n",
    "                  ordered_levels.items()}\n",
    "\n",
    "\n",
    "def encode(df):\n",
    "    # Nominal categories\n",
    "    df[features_nom] = df[features_nom].astype('category'). \\\n",
    "        apply(lambda x: x.cat.add_categories(\"None\") if \"None\" not in x.cat.categories else x)\n",
    "\n",
    "    # Ordinal categories\n",
    "    for name, levels in ordered_levels.items():\n",
    "        df[name] = df[name].astype(CategoricalDtype(levels,\n",
    "                                                    ordered=True))\n",
    "    return df\n"
   ]
  },
  {
   "cell_type": "markdown",
   "id": "aaa8ee07",
   "metadata": {
    "papermill": {
     "duration": 0.009089,
     "end_time": "2023-05-02T22:27:21.621912",
     "exception": false,
     "start_time": "2023-05-02T22:27:21.612823",
     "status": "completed"
    },
    "tags": []
   },
   "source": [
    "### Handle Missing Values ###\n",
    "\n",
    "Handling missing values now will make the feature engineering go more smoothly. We'll impute `0` for missing numeric values and `\"None\"` for missing categorical values. We'll also add a column that records where the imputations were made so we can alter our approach later if we wish."
   ]
  },
  {
   "cell_type": "code",
   "execution_count": 5,
   "id": "b5f2992c",
   "metadata": {
    "ExecuteTime": {
     "end_time": "2023-05-02T23:43:53.203194Z",
     "start_time": "2023-05-02T23:43:53.201744Z"
    },
    "execution": {
     "iopub.execute_input": "2023-05-02T22:27:21.642836Z",
     "iopub.status.busy": "2023-05-02T22:27:21.641780Z",
     "iopub.status.idle": "2023-05-02T22:27:21.648628Z",
     "shell.execute_reply": "2023-05-02T22:27:21.647413Z"
    },
    "papermill": {
     "duration": 0.020023,
     "end_time": "2023-05-02T22:27:21.651144",
     "exception": false,
     "start_time": "2023-05-02T22:27:21.631121",
     "status": "completed"
    },
    "tags": []
   },
   "outputs": [],
   "source": [
    "def impute(df):\n",
    "    for name in df.select_dtypes(\"number\"):\n",
    "        df[name + \"_missing\"] = np.where(df[name].isnull(), 1, 0)\n",
    "        df[name] = df[name].fillna(0)\n",
    "\n",
    "    for name in df.select_dtypes(\"category\"):\n",
    "        df[name + \"_missing\"] = np.where(df[name].isnull(), 1, 0)\n",
    "        df[name] = df[name].fillna(\"None\")\n",
    "\n",
    "    return df"
   ]
  },
  {
   "cell_type": "markdown",
   "id": "d95101f6",
   "metadata": {
    "papermill": {
     "duration": 0.009117,
     "end_time": "2023-05-02T22:27:21.669642",
     "exception": false,
     "start_time": "2023-05-02T22:27:21.660525",
     "status": "completed"
    },
    "tags": []
   },
   "source": [
    "## Load Data ##\n",
    "\n",
    "And now we can call the data loader and get the processed data splits:"
   ]
  },
  {
   "cell_type": "code",
   "execution_count": 6,
   "id": "30a6054d",
   "metadata": {
    "ExecuteTime": {
     "end_time": "2023-05-02T23:43:53.263805Z",
     "start_time": "2023-05-02T23:43:53.203930Z"
    },
    "execution": {
     "iopub.execute_input": "2023-05-02T22:27:21.689795Z",
     "iopub.status.busy": "2023-05-02T22:27:21.689360Z",
     "iopub.status.idle": "2023-05-02T22:27:21.952546Z",
     "shell.execute_reply": "2023-05-02T22:27:21.951351Z"
    },
    "papermill": {
     "duration": 0.27632,
     "end_time": "2023-05-02T22:27:21.955146",
     "exception": false,
     "start_time": "2023-05-02T22:27:21.678826",
     "status": "completed"
    },
    "tags": []
   },
   "outputs": [],
   "source": [
    "df_train, df_test = load_data()"
   ]
  },
  {
   "cell_type": "markdown",
   "id": "6eecd32f",
   "metadata": {
    "papermill": {
     "duration": 0.009404,
     "end_time": "2023-05-02T22:27:21.974728",
     "exception": false,
     "start_time": "2023-05-02T22:27:21.965324",
     "status": "completed"
    },
    "tags": []
   },
   "source": [
    "## Establish Baseline ##\n",
    "\n",
    "Finally, let's establish a baseline score to judge our feature engineering against.\n",
    "\n",
    "Here is the function that will compute the cross-validated RMSLE score for a feature set. We've used XGBoost for our model.\n"
   ]
  },
  {
   "cell_type": "code",
   "execution_count": 7,
   "id": "9192869d",
   "metadata": {
    "ExecuteTime": {
     "end_time": "2023-05-02T23:43:53.266143Z",
     "start_time": "2023-05-02T23:43:53.264198Z"
    },
    "_kg_hide-input": true,
    "execution": {
     "iopub.execute_input": "2023-05-02T22:27:21.996230Z",
     "iopub.status.busy": "2023-05-02T22:27:21.995132Z",
     "iopub.status.idle": "2023-05-02T22:27:22.001565Z",
     "shell.execute_reply": "2023-05-02T22:27:22.000746Z"
    },
    "papermill": {
     "duration": 0.019324,
     "end_time": "2023-05-02T22:27:22.003927",
     "exception": false,
     "start_time": "2023-05-02T22:27:21.984603",
     "status": "completed"
    },
    "tags": []
   },
   "outputs": [],
   "source": [
    "def score_dataset(X, y, model=XGBRegressor()):\n",
    "    # Label encoding for categoricals\n",
    "    for colname in X.select_dtypes([\"category\"]):\n",
    "        X[colname] = X[colname].cat.codes\n",
    "    # Metric for Housing competition is RMSLE (Root Mean Squared Log Error)\n",
    "    log_y = np.log(y)\n",
    "    score = cross_val_score(\n",
    "        model, X, log_y, cv=5, scoring=\"neg_mean_squared_error\",\n",
    "    )\n",
    "    score = -1 * score.mean()\n",
    "    score = np.sqrt(score)\n",
    "    return score"
   ]
  },
  {
   "cell_type": "markdown",
   "id": "ad04c0cc",
   "metadata": {
    "papermill": {
     "duration": 0.009087,
     "end_time": "2023-05-02T22:27:22.022400",
     "exception": false,
     "start_time": "2023-05-02T22:27:22.013313",
     "status": "completed"
    },
    "tags": []
   },
   "source": [
    "We can reuse this scoring function anytime we want to try out a new feature set. We'll run it now on the processed data with no additional features and get a baseline score:"
   ]
  },
  {
   "cell_type": "code",
   "execution_count": 8,
   "id": "45820480",
   "metadata": {
    "ExecuteTime": {
     "end_time": "2023-05-02T23:43:55.040551Z",
     "start_time": "2023-05-02T23:43:53.266953Z"
    },
    "execution": {
     "iopub.execute_input": "2023-05-02T22:27:22.043682Z",
     "iopub.status.busy": "2023-05-02T22:27:22.043004Z",
     "iopub.status.idle": "2023-05-02T22:27:25.299585Z",
     "shell.execute_reply": "2023-05-02T22:27:25.298723Z"
    },
    "papermill": {
     "duration": 3.270336,
     "end_time": "2023-05-02T22:27:25.302217",
     "exception": false,
     "start_time": "2023-05-02T22:27:22.031881",
     "status": "completed"
    },
    "tags": []
   },
   "outputs": [
    {
     "name": "stdout",
     "output_type": "stream",
     "text": [
      "Baseline score: 0.13951 RMSLE\n"
     ]
    }
   ],
   "source": [
    "X = df_train.copy()\n",
    "y = X.pop(\"SalePrice\")\n",
    "\n",
    "baseline_score = score_dataset(X, y)\n",
    "print(f\"Baseline score: {baseline_score:.5f} RMSLE\")"
   ]
  },
  {
   "cell_type": "markdown",
   "id": "09ce4787",
   "metadata": {
    "papermill": {
     "duration": 0.009529,
     "end_time": "2023-05-02T22:27:25.322546",
     "exception": false,
     "start_time": "2023-05-02T22:27:25.313017",
     "status": "completed"
    },
    "tags": []
   },
   "source": [
    "This baseline score helps us to know whether some set of features we've assembled has actually led to any improvement or not.\n",
    "\n",
    "# Step 2 - Feature Utility Scores #\n",
    "\n",
    "This cell defines the two utility functions we used, `make_mi_scores` and `plot_mi_scores`:"
   ]
  },
  {
   "cell_type": "code",
   "execution_count": 9,
   "id": "d6c4a608",
   "metadata": {
    "ExecuteTime": {
     "end_time": "2023-05-02T23:43:55.048734Z",
     "start_time": "2023-05-02T23:43:55.041423Z"
    },
    "_kg_hide-input": true,
    "execution": {
     "iopub.execute_input": "2023-05-02T22:27:25.343460Z",
     "iopub.status.busy": "2023-05-02T22:27:25.343073Z",
     "iopub.status.idle": "2023-05-02T22:27:25.351183Z",
     "shell.execute_reply": "2023-05-02T22:27:25.349844Z"
    },
    "papermill": {
     "duration": 0.021362,
     "end_time": "2023-05-02T22:27:25.353497",
     "exception": false,
     "start_time": "2023-05-02T22:27:25.332135",
     "status": "completed"
    },
    "tags": []
   },
   "outputs": [],
   "source": [
    "def make_mi_scores(X, y):\n",
    "    X = X.copy()\n",
    "    for colname in X.select_dtypes([\"object\", \"category\"]):\n",
    "        X[colname], _ = X[colname].factorize()\n",
    "    # All discrete features should now have integer dtypes\n",
    "    discrete_features = [pd.api.types.is_integer_dtype(t) for t in X.dtypes]\n",
    "    mi_scores = mutual_info_regression(X, y, discrete_features=discrete_features, random_state=0)\n",
    "    mi_scores = pd.Series(mi_scores, name=\"MI Scores\", index=X.columns)\n",
    "    mi_scores = mi_scores.sort_values(ascending=False)\n",
    "    return mi_scores\n",
    "\n",
    "\n",
    "def plot_mi_scores(scores):\n",
    "    scores = scores.sort_values(ascending=True)\n",
    "    width = np.arange(len(scores))\n",
    "    ticks = list(scores.index)\n",
    "    plt.barh(width, scores)\n",
    "    plt.yticks(width, ticks)\n",
    "    plt.title(\"Mutual Information Scores\")"
   ]
  },
  {
   "cell_type": "markdown",
   "id": "86b61209",
   "metadata": {
    "papermill": {
     "duration": 0.009736,
     "end_time": "2023-05-02T22:27:25.372902",
     "exception": false,
     "start_time": "2023-05-02T22:27:25.363166",
     "status": "completed"
    },
    "tags": []
   },
   "source": [
    "Let's look at our feature scores again:"
   ]
  },
  {
   "cell_type": "code",
   "execution_count": 10,
   "id": "1eb16b19",
   "metadata": {
    "ExecuteTime": {
     "end_time": "2023-05-02T23:43:56.308751Z",
     "start_time": "2023-05-02T23:43:55.045781Z"
    },
    "execution": {
     "iopub.execute_input": "2023-05-02T22:27:25.394043Z",
     "iopub.status.busy": "2023-05-02T22:27:25.393634Z",
     "iopub.status.idle": "2023-05-02T22:27:28.294240Z",
     "shell.execute_reply": "2023-05-02T22:27:28.292748Z"
    },
    "papermill": {
     "duration": 2.914215,
     "end_time": "2023-05-02T22:27:28.296687",
     "exception": false,
     "start_time": "2023-05-02T22:27:25.382472",
     "status": "completed"
    },
    "tags": []
   },
   "outputs": [
    {
     "data": {
      "text/plain": [
       "OverallQual            0.571457\n",
       "Neighborhood           0.526220\n",
       "GrLivArea              0.430395\n",
       "YearBuilt              0.407974\n",
       "LotArea                0.394468\n",
       "                         ...   \n",
       "MiscVal                0.000000\n",
       "PoolQC_missing         0.000000\n",
       "MiscFeature            0.000000\n",
       "MiscFeature_missing    0.000000\n",
       "PoolQC                 0.000000\n",
       "Name: MI Scores, Length: 159, dtype: float64"
      ]
     },
     "execution_count": 10,
     "metadata": {},
     "output_type": "execute_result"
    }
   ],
   "source": [
    "X = df_train.copy()\n",
    "y = X.pop(\"SalePrice\")\n",
    "\n",
    "mi_scores = make_mi_scores(X, y)\n",
    "mi_scores"
   ]
  },
  {
   "cell_type": "markdown",
   "id": "aa4dd4cb",
   "metadata": {
    "papermill": {
     "duration": 0.009835,
     "end_time": "2023-05-02T22:27:28.316412",
     "exception": false,
     "start_time": "2023-05-02T22:27:28.306577",
     "status": "completed"
    },
    "tags": []
   },
   "source": [
    "You can see that we have a number of features that are highly informative and also some that don't seem to be informative at all (at least by themselves)."
   ]
  },
  {
   "cell_type": "code",
   "execution_count": 11,
   "id": "da48aeee",
   "metadata": {
    "ExecuteTime": {
     "end_time": "2023-05-02T23:43:56.311049Z",
     "start_time": "2023-05-02T23:43:56.308418Z"
    },
    "execution": {
     "iopub.execute_input": "2023-05-02T22:27:28.338679Z",
     "iopub.status.busy": "2023-05-02T22:27:28.337609Z",
     "iopub.status.idle": "2023-05-02T22:27:28.342870Z",
     "shell.execute_reply": "2023-05-02T22:27:28.341794Z"
    },
    "papermill": {
     "duration": 0.018785,
     "end_time": "2023-05-02T22:27:28.345333",
     "exception": false,
     "start_time": "2023-05-02T22:27:28.326548",
     "status": "completed"
    },
    "tags": []
   },
   "outputs": [],
   "source": [
    "def drop_uninformative(df, mi_scores):\n",
    "    return df.loc[:, mi_scores > 0.0]\n"
   ]
  },
  {
   "cell_type": "markdown",
   "id": "24bbce8e",
   "metadata": {
    "papermill": {
     "duration": 0.009336,
     "end_time": "2023-05-02T22:27:28.364808",
     "exception": false,
     "start_time": "2023-05-02T22:27:28.355472",
     "status": "completed"
    },
    "tags": []
   },
   "source": [
    "Removing them does lead to a modest performance gain:"
   ]
  },
  {
   "cell_type": "code",
   "execution_count": 12,
   "id": "ee829800",
   "metadata": {
    "ExecuteTime": {
     "end_time": "2023-05-02T23:43:58.040618Z",
     "start_time": "2023-05-02T23:43:56.310932Z"
    },
    "execution": {
     "iopub.execute_input": "2023-05-02T22:27:28.386458Z",
     "iopub.status.busy": "2023-05-02T22:27:28.386047Z",
     "iopub.status.idle": "2023-05-02T22:27:31.452097Z",
     "shell.execute_reply": "2023-05-02T22:27:31.451132Z"
    },
    "papermill": {
     "duration": 3.079604,
     "end_time": "2023-05-02T22:27:31.454628",
     "exception": false,
     "start_time": "2023-05-02T22:27:28.375024",
     "status": "completed"
    },
    "tags": []
   },
   "outputs": [
    {
     "data": {
      "text/plain": [
       "0.13761658928397275"
      ]
     },
     "execution_count": 12,
     "metadata": {},
     "output_type": "execute_result"
    }
   ],
   "source": [
    "X = df_train.copy()\n",
    "y = X.pop(\"SalePrice\")\n",
    "X = drop_uninformative(X, mi_scores)\n",
    "\n",
    "score_dataset(X, y)"
   ]
  },
  {
   "cell_type": "markdown",
   "id": "024b2d38",
   "metadata": {
    "papermill": {
     "duration": 0.009683,
     "end_time": "2023-05-02T22:27:31.475778",
     "exception": false,
     "start_time": "2023-05-02T22:27:31.466095",
     "status": "completed"
    },
    "tags": []
   },
   "source": [
    "Later, we'll add the `drop_uninformative` function to our feature-creation pipeline.\n",
    "\n",
    "# Step 3 - Create Features #\n",
    "\n",
    "Now we'll start developing our feature set.\n",
    "\n",
    "To make our feature engineering workflow more modular, we'll define a function that will take a prepared dataframe and pass it through a pipeline of transformations to get the final feature set."
   ]
  },
  {
   "cell_type": "code",
   "execution_count": 13,
   "id": "3459c74b",
   "metadata": {
    "ExecuteTime": {
     "end_time": "2023-05-02T23:43:58.043603Z",
     "start_time": "2023-05-02T23:43:58.040599Z"
    },
    "execution": {
     "iopub.execute_input": "2023-05-02T22:27:31.497949Z",
     "iopub.status.busy": "2023-05-02T22:27:31.497502Z",
     "iopub.status.idle": "2023-05-02T22:27:31.503360Z",
     "shell.execute_reply": "2023-05-02T22:27:31.502225Z"
    },
    "papermill": {
     "duration": 0.019743,
     "end_time": "2023-05-02T22:27:31.505649",
     "exception": false,
     "start_time": "2023-05-02T22:27:31.485906",
     "status": "completed"
    },
    "tags": []
   },
   "outputs": [],
   "source": [
    "def label_encode(df):\n",
    "    X = df.copy()\n",
    "    for col_name in X.select_dtypes([\"category\"]):\n",
    "        X[col_name] = X[col_name].cat.codes\n",
    "    return X"
   ]
  },
  {
   "cell_type": "markdown",
   "id": "ae04ecfc",
   "metadata": {
    "papermill": {
     "duration": 0.009617,
     "end_time": "2023-05-02T22:27:31.525508",
     "exception": false,
     "start_time": "2023-05-02T22:27:31.515891",
     "status": "completed"
    },
    "tags": []
   },
   "source": [
    "A label encoding is okay for any kind of categorical feature when you're using a tree-ensemble like XGBoost, even for unordered categories.\n",
    "\n",
    "## Create Features with Pandas ##"
   ]
  },
  {
   "cell_type": "code",
   "execution_count": 14,
   "id": "e227651e",
   "metadata": {
    "ExecuteTime": {
     "end_time": "2023-05-02T23:43:58.047003Z",
     "start_time": "2023-05-02T23:43:58.045606Z"
    },
    "_kg_hide-input": true,
    "execution": {
     "iopub.execute_input": "2023-05-02T22:27:31.547825Z",
     "iopub.status.busy": "2023-05-02T22:27:31.547188Z",
     "iopub.status.idle": "2023-05-02T22:27:31.557403Z",
     "shell.execute_reply": "2023-05-02T22:27:31.556063Z"
    },
    "papermill": {
     "duration": 0.024093,
     "end_time": "2023-05-02T22:27:31.559947",
     "exception": false,
     "start_time": "2023-05-02T22:27:31.535854",
     "status": "completed"
    },
    "tags": []
   },
   "outputs": [],
   "source": [
    "def mathematical_transforms(df):\n",
    "    X = pd.DataFrame()  # dataframe to hold new features\n",
    "    X[\"LivLotRatio\"] = df.GrLivArea / df.LotArea\n",
    "    X[\"Spaciousness\"] = (df.FirstFlrSF + df.SecondFlrSF) / df.TotRmsAbvGrd\n",
    "    X[\"SqFtPerRoom\"] = df[\"GrLivArea\"] / (df[\"TotRmsAbvGrd\"] +\n",
    "                                          df[\"FullBath\"] +\n",
    "                                          df[\"HalfBath\"] +\n",
    "                                          df[\"KitchenAbvGr\"])\n",
    "    X[\"TotalOutsideSF\"] = df.WoodDeckSF + df.OpenPorchSF + df.EnclosedPorch + \\\n",
    "                          df.Threeseasonporch + df.ScreenPorch\n",
    "    X['Total_Bathrooms'] = (df['FullBath'] + (0.5 * df['HalfBath']) +\n",
    "                             df['BsmtFullBath'] + (0.5 * df['BsmtHalfBath']))\n",
    "\n",
    "    X[\"HighQualSF\"] = df[\"GrLivArea\"]+df[\"FirstFlrSF\"] + df[\"SecondFlrSF\"]+0.5*df[\"GarageArea\"]+0.5*df[\"TotalBsmtSF\"]+1*df[\"MasVnrArea\"]\n",
    "\n",
    "    return X\n",
    "\n",
    "\n",
    "def interactions(df):\n",
    "    X = pd.get_dummies(df.BldgType, prefix=\"Bldg\")\n",
    "    X = X.mul(df.GrLivArea, axis=0)\n",
    "    return X\n",
    "\n",
    "\n",
    "def counts(df):\n",
    "    X = pd.DataFrame()\n",
    "    X[\"PorchTypes\"] = df[[\n",
    "        \"WoodDeckSF\",\n",
    "        \"OpenPorchSF\",\n",
    "        \"EnclosedPorch\",\n",
    "        \"Threeseasonporch\",\n",
    "        \"ScreenPorch\",\n",
    "    ]].gt(0.0).sum(axis=1)\n",
    "    return X\n",
    "\n",
    "\n",
    "def break_down(df):\n",
    "    X = pd.DataFrame()\n",
    "    X[\"MSClass\"] = df.MSSubClass.str.split(\"_\", n=1, expand=True)[0]\n",
    "    return X\n",
    "\n",
    "\n",
    "def group_transforms(df):\n",
    "    X = pd.DataFrame()\n",
    "    X[\"MedNhbdArea\"] = df.groupby(\"Neighborhood\")[\"GrLivArea\"].transform(\"median\")\n",
    "    return X\n",
    "\n"
   ]
  },
  {
   "cell_type": "markdown",
   "id": "135bef75",
   "metadata": {
    "papermill": {
     "duration": 0.010141,
     "end_time": "2023-05-02T22:27:31.580095",
     "exception": false,
     "start_time": "2023-05-02T22:27:31.569954",
     "status": "completed"
    },
    "tags": []
   },
   "source": [
    "## k-Means Clustering ##\n",
    "\n",
    "The first unsupervised algorithm we used to create features was k-means clustering. We saw that you could either use the cluster labels as a feature (a column with `0, 1, 2, ...`) or you could use the *distance* of the observations to each cluster. We saw how these features can sometimes be effective at untangling complicated spatial relationships."
   ]
  },
  {
   "cell_type": "code",
   "execution_count": 15,
   "id": "16d7a015",
   "metadata": {
    "ExecuteTime": {
     "end_time": "2023-05-02T23:43:58.051490Z",
     "start_time": "2023-05-02T23:43:58.049283Z"
    },
    "_kg_hide-input": true,
    "execution": {
     "iopub.execute_input": "2023-05-02T22:27:31.602486Z",
     "iopub.status.busy": "2023-05-02T22:27:31.601485Z",
     "iopub.status.idle": "2023-05-02T22:27:31.610765Z",
     "shell.execute_reply": "2023-05-02T22:27:31.609634Z"
    },
    "lines_to_next_cell": 2,
    "papermill": {
     "duration": 0.022742,
     "end_time": "2023-05-02T22:27:31.612971",
     "exception": false,
     "start_time": "2023-05-02T22:27:31.590229",
     "status": "completed"
    },
    "tags": []
   },
   "outputs": [],
   "source": [
    "cluster_features = [\n",
    "    \"LotArea\",\n",
    "    \"TotalBsmtSF\",\n",
    "    \"FirstFlrSF\",\n",
    "    \"SecondFlrSF\",\n",
    "    \"GrLivArea\",\n",
    "]\n",
    "\n",
    "\n",
    "def cluster_labels(df, features, n_clusters=20):\n",
    "    X = df.copy()\n",
    "    X_scaled = X.loc[:, features]\n",
    "    X_scaled = (X_scaled - X_scaled.mean(axis=0)) / X_scaled.std(axis=0)\n",
    "    kmeans = KMeans(n_clusters=n_clusters, n_init=50, random_state=0)\n",
    "    X_new = pd.DataFrame()\n",
    "    X_new[\"Cluster\"] = kmeans.fit_predict(X_scaled)\n",
    "    return X_new\n",
    "\n",
    "\n",
    "def cluster_distance(df, features, n_clusters=20):\n",
    "    X = df.copy()\n",
    "    X_scaled = X.loc[:, features]\n",
    "    X_scaled = (X_scaled - X_scaled.mean(axis=0)) / X_scaled.std(axis=0)\n",
    "    kmeans = KMeans(n_clusters=20, n_init=50, random_state=0)\n",
    "    X_cd = kmeans.fit_transform(X_scaled)\n",
    "    # Label features and join to dataset\n",
    "    X_cd = pd.DataFrame(\n",
    "        X_cd, columns=[f\"Centroid_{i}\" for i in range(X_cd.shape[1])]\n",
    "    )\n",
    "    return X_cd"
   ]
  },
  {
   "cell_type": "markdown",
   "id": "9545ed49",
   "metadata": {
    "papermill": {
     "duration": 0.00962,
     "end_time": "2023-05-02T22:27:31.632645",
     "exception": false,
     "start_time": "2023-05-02T22:27:31.623025",
     "status": "completed"
    },
    "tags": []
   },
   "source": [
    "## Principal Component Analysis ##\n",
    "\n",
    "\n",
    "Here are the utility functions from the PCA lesson:"
   ]
  },
  {
   "cell_type": "code",
   "execution_count": 16,
   "id": "39acc010",
   "metadata": {
    "ExecuteTime": {
     "end_time": "2023-05-02T23:43:58.055611Z",
     "start_time": "2023-05-02T23:43:58.054135Z"
    },
    "_kg_hide-input": true,
    "execution": {
     "iopub.execute_input": "2023-05-02T22:27:31.654587Z",
     "iopub.status.busy": "2023-05-02T22:27:31.654175Z",
     "iopub.status.idle": "2023-05-02T22:27:31.664792Z",
     "shell.execute_reply": "2023-05-02T22:27:31.663573Z"
    },
    "papermill": {
     "duration": 0.024268,
     "end_time": "2023-05-02T22:27:31.667153",
     "exception": false,
     "start_time": "2023-05-02T22:27:31.642885",
     "status": "completed"
    },
    "tags": []
   },
   "outputs": [],
   "source": [
    "def apply_pca(X, standardize=True):\n",
    "    # Standardize\n",
    "    if standardize:\n",
    "        X = (X - X.mean(axis=0)) / X.std(axis=0)\n",
    "    # Create principal components\n",
    "    pca = PCA()\n",
    "    X_pca = pca.fit_transform(X)\n",
    "    # Convert to dataframe\n",
    "    component_names = [f\"PC{i + 1}\" for i in range(X_pca.shape[1])]\n",
    "    X_pca = pd.DataFrame(X_pca, columns=component_names)\n",
    "    # Create loadings\n",
    "    loadings = pd.DataFrame(\n",
    "        pca.components_.T,  # transpose the matrix of loadings\n",
    "        columns=component_names,  # so the columns are the principal components\n",
    "        index=X.columns,  # and the rows are the original features\n",
    "    )\n",
    "    return pca, X_pca, loadings\n",
    "\n",
    "\n",
    "def plot_variance(pca, width=8, dpi=100):\n",
    "    # Create figure\n",
    "    fig, axs = plt.subplots(1, 2)\n",
    "    n = pca.n_components_\n",
    "    grid = np.arange(1, n + 1)\n",
    "    # Explained variance\n",
    "    evr = pca.explained_variance_ratio_\n",
    "    axs[0].bar(grid, evr)\n",
    "    axs[0].set(\n",
    "        xlabel=\"Component\", title=\"% Explained Variance\", ylim=(0.0, 1.0)\n",
    "    )\n",
    "    # Cumulative Variance\n",
    "    cv = np.cumsum(evr)\n",
    "    axs[1].plot(np.r_[0, grid], np.r_[0, cv], \"o-\")\n",
    "    axs[1].set(\n",
    "        xlabel=\"Component\", title=\"% Cumulative Variance\", ylim=(0.0, 1.0)\n",
    "    )\n",
    "    # Set up figure\n",
    "    fig.set(figwidth=8, dpi=100)\n",
    "    return axs"
   ]
  },
  {
   "cell_type": "code",
   "execution_count": 17,
   "id": "c5a556d0",
   "metadata": {
    "ExecuteTime": {
     "end_time": "2023-05-02T23:43:58.058431Z",
     "start_time": "2023-05-02T23:43:58.057194Z"
    },
    "_kg_hide-input": true,
    "execution": {
     "iopub.execute_input": "2023-05-02T22:27:31.689315Z",
     "iopub.status.busy": "2023-05-02T22:27:31.688890Z",
     "iopub.status.idle": "2023-05-02T22:27:31.695416Z",
     "shell.execute_reply": "2023-05-02T22:27:31.694277Z"
    },
    "papermill": {
     "duration": 0.020214,
     "end_time": "2023-05-02T22:27:31.697542",
     "exception": false,
     "start_time": "2023-05-02T22:27:31.677328",
     "status": "completed"
    },
    "tags": []
   },
   "outputs": [],
   "source": [
    "def pca_inspired(df):\n",
    "    X = pd.DataFrame()\n",
    "    X[\"Feature1\"] = df.GrLivArea + df.TotalBsmtSF\n",
    "    X[\"Feature2\"] = df.YearRemodAdd * df.TotalBsmtSF\n",
    "    return X\n",
    "\n",
    "\n",
    "def pca_components(df, features):\n",
    "    X = df.loc[:, features]\n",
    "    _, X_pca, _ = apply_pca(X)\n",
    "    return X_pca\n",
    "\n",
    "\n",
    "pca_features = [\n",
    "    \"GarageArea\",\n",
    "    \"YearRemodAdd\",\n",
    "    \"TotalBsmtSF\",\n",
    "    \"GrLivArea\",\n",
    "]"
   ]
  },
  {
   "cell_type": "markdown",
   "id": "8739bfb4",
   "metadata": {
    "papermill": {
     "duration": 0.010494,
     "end_time": "2023-05-02T22:27:31.718207",
     "exception": false,
     "start_time": "2023-05-02T22:27:31.707713",
     "status": "completed"
    },
    "tags": []
   },
   "source": [
    "For further analysis, we might want to look at a correlation matrix for the dataset:"
   ]
  },
  {
   "cell_type": "code",
   "execution_count": 18,
   "id": "1292c723",
   "metadata": {
    "ExecuteTime": {
     "end_time": "2023-05-02T23:43:58.848395Z",
     "start_time": "2023-05-02T23:43:58.060333Z"
    },
    "collapsed": false,
    "execution": {
     "iopub.execute_input": "2023-05-02T22:27:31.741708Z",
     "iopub.status.busy": "2023-05-02T22:27:31.740330Z",
     "iopub.status.idle": "2023-05-02T22:27:33.177830Z",
     "shell.execute_reply": "2023-05-02T22:27:33.176759Z"
    },
    "jupyter": {
     "outputs_hidden": false
    },
    "papermill": {
     "duration": 1.452623,
     "end_time": "2023-05-02T22:27:33.181237",
     "exception": false,
     "start_time": "2023-05-02T22:27:31.728614",
     "status": "completed"
    },
    "tags": []
   },
   "outputs": [
    {
     "data": {
      "image/png": "[encoded data removed]",
      "text/plain": [
       "<Figure size 1000x1000 with 4 Axes>"
      ]
     },
     "metadata": {},
     "output_type": "display_data"
    }
   ],
   "source": [
    "def corrplot(df, method=\"pearson\", annot=True, **kwargs):\n",
    "    # Select only columns that do not have \"_missing\" suffix\n",
    "    df_no_missing = df.loc[:, ~df.columns.str.endswith(\"_missing\")]\n",
    "\n",
    "    df_no_missing = df_no_missing.select_dtypes(include=[np.number])\n",
    "\n",
    "    sns.clustermap(\n",
    "        df_no_missing.corr(method),\n",
    "        vmin=-1.0,\n",
    "        vmax=1.0,\n",
    "        cmap=\"icefire\",\n",
    "        method=\"complete\",\n",
    "        annot=annot,\n",
    "        **kwargs,\n",
    "    )\n",
    "\n",
    "\n",
    "corrplot(df_train, annot=None)"
   ]
  },
  {
   "cell_type": "markdown",
   "id": "5c8951d3",
   "metadata": {
    "papermill": {
     "duration": 0.013382,
     "end_time": "2023-05-02T22:27:33.207741",
     "exception": false,
     "start_time": "2023-05-02T22:27:33.194359",
     "status": "completed"
    },
    "tags": []
   },
   "source": [
    "### PCA Application - Indicate Outliers ###\n",
    "\n",
    "In Exercise 5, you applied PCA to determine houses that were **outliers**, that is, houses having values not well represented in the rest of the data. You saw that there was a group of houses in the `Edwards` neighborhood having a `SaleCondition` of `Partial` whose values were especially extreme.\n",
    "\n",
    "Some models can benefit from having these outliers indicated, which is what this next transform will do."
   ]
  },
  {
   "cell_type": "code",
   "execution_count": 19,
   "id": "3bb29356",
   "metadata": {
    "ExecuteTime": {
     "end_time": "2023-05-02T23:44:43.889006Z",
     "start_time": "2023-05-02T23:44:43.881928Z"
    },
    "execution": {
     "iopub.execute_input": "2023-05-02T22:27:33.236015Z",
     "iopub.status.busy": "2023-05-02T22:27:33.235581Z",
     "iopub.status.idle": "2023-05-02T22:27:33.243017Z",
     "shell.execute_reply": "2023-05-02T22:27:33.241719Z"
    },
    "papermill": {
     "duration": 0.023514,
     "end_time": "2023-05-02T22:27:33.245271",
     "exception": false,
     "start_time": "2023-05-02T22:27:33.221757",
     "status": "completed"
    },
    "tags": []
   },
   "outputs": [],
   "source": [
    "def indicate_outliers(df):\n",
    "    X_new = pd.DataFrame()\n",
    "    X_new[\"Outlier\"] = (df.Neighborhood == \"Edwards\") & (df.SaleCondition == \"Partial\")\n",
    "    return X_new"
   ]
  },
  {
   "cell_type": "markdown",
   "id": "137c7a77",
   "metadata": {
    "papermill": {
     "duration": 0.011856,
     "end_time": "2023-05-02T22:27:33.269452",
     "exception": false,
     "start_time": "2023-05-02T22:27:33.257596",
     "status": "completed"
    },
    "tags": []
   },
   "source": [
    "\n",
    "## Target Encoding ##"
   ]
  },
  {
   "cell_type": "code",
   "execution_count": 20,
   "id": "165a02a8",
   "metadata": {
    "ExecuteTime": {
     "end_time": "2023-05-02T23:45:03.582716Z",
     "start_time": "2023-05-02T23:45:03.578363Z"
    },
    "collapsed": false,
    "execution": {
     "iopub.execute_input": "2023-05-02T22:27:33.295334Z",
     "iopub.status.busy": "2023-05-02T22:27:33.294957Z",
     "iopub.status.idle": "2023-05-02T22:27:33.305611Z",
     "shell.execute_reply": "2023-05-02T22:27:33.304297Z"
    },
    "jupyter": {
     "outputs_hidden": false
    },
    "papermill": {
     "duration": 0.026345,
     "end_time": "2023-05-02T22:27:33.307936",
     "exception": false,
     "start_time": "2023-05-02T22:27:33.281591",
     "status": "completed"
    },
    "tags": []
   },
   "outputs": [],
   "source": [
    "class CrossFoldEncoder:\n",
    "    def __init__(self, encoder, **kwargs):\n",
    "        self.encoder_ = encoder\n",
    "        self.kwargs_ = kwargs  # keyword arguments for the encoder\n",
    "        self.cv_ = KFold(n_splits=5)\n",
    "\n",
    "    # Fit an encoder on one split and transform the feature on the\n",
    "    # other. Iterating over the splits in all folds gives a complete\n",
    "    # transformation. We also now have one trained encoder on each\n",
    "    # fold.\n",
    "    def fit_transform(self, X, y, cols):\n",
    "        self.fitted_encoders_ = []\n",
    "        self.cols_ = cols\n",
    "        X_encoded = []\n",
    "        for idx_encode, idx_train in self.cv_.split(X):\n",
    "            fitted_encoder = self.encoder_(cols=cols, **self.kwargs_)\n",
    "            fitted_encoder.fit(\n",
    "                X.iloc[idx_encode, :], y.iloc[idx_encode],\n",
    "            )\n",
    "            X_encoded.append(fitted_encoder.transform(X.iloc[idx_train, :])[cols])\n",
    "            self.fitted_encoders_.append(fitted_encoder)\n",
    "        X_encoded = pd.concat(X_encoded)\n",
    "        X_encoded.columns = [name + \"_encoded\" for name in X_encoded.columns]\n",
    "        return X_encoded\n",
    "\n",
    "    # To transform the test data, average the encodings learned from\n",
    "    # each fold.\n",
    "    def transform(self, X):\n",
    "        from functools import reduce\n",
    "\n",
    "        X_encoded_list = []\n",
    "        for fitted_encoder in self.fitted_encoders_:\n",
    "            X_encoded = fitted_encoder.transform(X)\n",
    "            X_encoded_list.append(X_encoded[self.cols_])\n",
    "        X_encoded = reduce(\n",
    "            lambda x, y: x.add(y, fill_value=0), X_encoded_list\n",
    "        ) / len(X_encoded_list)\n",
    "        X_encoded.columns = [name + \"_encoded\" for name in X_encoded.columns]\n",
    "        return X_encoded"
   ]
  },
  {
   "cell_type": "markdown",
   "id": "8f17c181",
   "metadata": {
    "papermill": {
     "duration": 0.013937,
     "end_time": "2023-05-02T22:27:33.334349",
     "exception": false,
     "start_time": "2023-05-02T22:27:33.320412",
     "status": "completed"
    },
    "tags": []
   },
   "source": [
    "## Create Final Feature Set ##\n",
    "\n",
    "Now let's combine everything together. Putting the transformations into separate functions makes it easier to experiment with various combinations. The ones I left uncommented I found gave the best results."
   ]
  },
  {
   "cell_type": "code",
   "execution_count": 21,
   "id": "868d8479",
   "metadata": {
    "ExecuteTime": {
     "end_time": "2023-05-03T00:44:59.680388Z",
     "start_time": "2023-05-03T00:44:56.463927Z"
    },
    "execution": {
     "iopub.execute_input": "2023-05-02T22:27:33.363685Z",
     "iopub.status.busy": "2023-05-02T22:27:33.363258Z",
     "iopub.status.idle": "2023-05-02T22:27:40.686858Z",
     "shell.execute_reply": "2023-05-02T22:27:40.685934Z"
    },
    "papermill": {
     "duration": 7.340292,
     "end_time": "2023-05-02T22:27:40.689552",
     "exception": false,
     "start_time": "2023-05-02T22:27:33.349260",
     "status": "completed"
    },
    "tags": []
   },
   "outputs": [
    {
     "data": {
      "text/plain": [
       "0.1327775434523078"
      ]
     },
     "execution_count": 21,
     "metadata": {},
     "output_type": "execute_result"
    }
   ],
   "source": [
    "from category_encoders import CatBoostEncoder\n",
    "\n",
    "def create_features(df, df_test=None):\n",
    "    X = df.copy()\n",
    "    y = X.pop(\"SalePrice\")\n",
    "    mi_scores = make_mi_scores(X, y)\n",
    "\n",
    "    # Combine splits if test data is given\n",
    "    #\n",
    "    # If we're creating features for test set predictions, we should\n",
    "    # use all the data we have available. After creating our features,\n",
    "    # we'll recreate the splits.\n",
    "    if df_test is not None:\n",
    "        X_test = df_test.copy()\n",
    "        X_test.pop(\"SalePrice\")\n",
    "        X = pd.concat([X, X_test])\n",
    "\n",
    "    # Mutual Information\n",
    "    X = drop_uninformative(X, mi_scores)\n",
    "\n",
    "    # Transformations\n",
    "    X = X.join(mathematical_transforms(X))\n",
    "    X = X.join(interactions(X))\n",
    "    X = X.join(counts(X))\n",
    "    X = X.join(break_down(X))\n",
    "    X = X.join(group_transforms(X))\n",
    "\n",
    "    # PCA\n",
    "    X = X.join(indicate_outliers(X))\n",
    "\n",
    "    X = label_encode(X)\n",
    "\n",
    "    # Reform splits\n",
    "    if df_test is not None:\n",
    "        X_test = X.loc[df_test.index, :]\n",
    "        X.drop(df_test.index, inplace=True)\n",
    "\n",
    "    # Lesson 6 - Target Encoder\n",
    "    encoder = CrossFoldEncoder(CatBoostEncoder, a=1)\n",
    "    X = X.join(encoder.fit_transform(X, y, cols=[\"MSSubClass\"]))\n",
    "    if df_test is not None:\n",
    "        X_test = X_test.join(encoder.transform(X_test))\n",
    "\n",
    "    if df_test is not None:\n",
    "        return X, X_test\n",
    "    else:\n",
    "        return X\n",
    "\n",
    "df_train, df_test = load_data()\n",
    "X_train = create_features(df_train)\n",
    "y_train = df_train.loc[:, \"SalePrice\"]\n",
    "\n",
    "score_dataset(X_train, y_train)"
   ]
  },
  {
   "cell_type": "markdown",
   "id": "ada89fd9",
   "metadata": {
    "papermill": {
     "duration": 0.012217,
     "end_time": "2023-05-02T22:27:40.715553",
     "exception": false,
     "start_time": "2023-05-02T22:27:40.703336",
     "status": "completed"
    },
    "tags": []
   },
   "source": [
    "# Step 4 - Hyperparameter Tuning #"
   ]
  },
  {
   "cell_type": "code",
   "execution_count": 22,
   "id": "708ed95b",
   "metadata": {
    "ExecuteTime": {
     "end_time": "2023-05-03T00:45:47.886983Z",
     "start_time": "2023-05-03T00:45:04.840805Z"
    },
    "execution": {
     "iopub.execute_input": "2023-05-02T22:27:40.743649Z",
     "iopub.status.busy": "2023-05-02T22:27:40.742636Z",
     "iopub.status.idle": "2023-05-02T22:28:08.646843Z",
     "shell.execute_reply": "2023-05-02T22:28:08.645838Z"
    },
    "papermill": {
     "duration": 27.921214,
     "end_time": "2023-05-02T22:28:08.649676",
     "exception": false,
     "start_time": "2023-05-02T22:27:40.728462",
     "status": "completed"
    },
    "tags": []
   },
   "outputs": [
    {
     "data": {
      "text/plain": [
       "0.12340045274457344"
      ]
     },
     "execution_count": 22,
     "metadata": {},
     "output_type": "execute_result"
    }
   ],
   "source": [
    "X_train = create_features(df_train)\n",
    "y_train = df_train.loc[:, \"SalePrice\"]\n",
    "\n",
    "xgb_params = dict(\n",
    "    max_depth=6,\n",
    "    learning_rate=0.01,\n",
    "    n_estimators=1000,\n",
    "    min_child_weight=1,\n",
    "    colsample_bytree=0.7,\n",
    "    subsample=0.7,\n",
    "    reg_alpha=0.5,\n",
    "    reg_lambda=1.0,\n",
    "    num_parallel_tree=1,\n",
    ")\n",
    "\n",
    "xgb = XGBRegressor(**xgb_params)\n",
    "score_dataset(X_train, y_train, xgb)"
   ]
  },
  {
   "cell_type": "code",
   "execution_count": 23,
   "id": "5e42fb67",
   "metadata": {
    "collapsed": false,
    "execution": {
     "iopub.execute_input": "2023-05-02T22:28:08.677977Z",
     "iopub.status.busy": "2023-05-02T22:28:08.677556Z",
     "iopub.status.idle": "2023-05-02T23:54:57.529506Z",
     "shell.execute_reply": "2023-05-02T23:54:57.528259Z"
    },
    "jupyter": {
     "outputs_hidden": false
    },
    "papermill": {
     "duration": 5208.87802,
     "end_time": "2023-05-02T23:54:57.541610",
     "exception": false,
     "start_time": "2023-05-02T22:28:08.663590",
     "status": "completed"
    },
    "tags": []
   },
   "outputs": [
    {
     "name": "stderr",
     "output_type": "stream",
     "text": [
      "\u001b[32m[I 2023-05-02 22:28:09,275]\u001b[0m A new study created in memory with name: no-name-6821b6f9-5901-42b5-be20-8fb2584adaaf\u001b[0m\n",
      "\u001b[32m[I 2023-05-02 22:29:24,699]\u001b[0m Trial 0 finished with value: 0.12367655500986847 and parameters: {'max_depth': 4, 'learning_rate': 0.046758692293190976, 'n_estimators': 7111, 'min_child_weight': 9, 'colsample_bytree': 0.43040453723227307, 'subsample': 0.33909188835056875, 'reg_alpha': 1.8993333440723035, 'reg_lambda': 0.46008215494659477}. Best is trial 0 with value: 0.12367655500986847.\u001b[0m\n",
      "\u001b[32m[I 2023-05-02 22:30:23,535]\u001b[0m Trial 1 finished with value: 0.17738896403490423 and parameters: {'max_depth': 6, 'learning_rate': 0.011711516491933716, 'n_estimators': 4692, 'min_child_weight': 6, 'colsample_bytree': 0.7793071576364137, 'subsample': 0.8083068535426341, 'reg_alpha': 31.677916098725035, 'reg_lambda': 0.0513279099564973}. Best is trial 0 with value: 0.12367655500986847.\u001b[0m\n",
      "\u001b[32m[I 2023-05-02 22:31:57,280]\u001b[0m Trial 2 finished with value: 0.18932554361181025 and parameters: {'max_depth': 4, 'learning_rate': 0.0015660537269558698, 'n_estimators': 5956, 'min_child_weight': 1, 'colsample_bytree': 0.6244522593427818, 'subsample': 0.7972719053636677, 'reg_alpha': 32.27860720198469, 'reg_lambda': 10.115143031777075}. Best is trial 0 with value: 0.12367655500986847.\u001b[0m\n",
      "\u001b[32m[I 2023-05-02 22:32:56,398]\u001b[0m Trial 3 finished with value: 0.16408559057106137 and parameters: {'max_depth': 3, 'learning_rate': 0.030437404472432667, 'n_estimators': 5778, 'min_child_weight': 4, 'colsample_bytree': 0.9723120633504123, 'subsample': 0.3398391136933608, 'reg_alpha': 12.949736025968933, 'reg_lambda': 0.022322033783044978}. Best is trial 0 with value: 0.12367655500986847.\u001b[0m\n",
      "\u001b[32m[I 2023-05-02 22:34:26,908]\u001b[0m Trial 4 finished with value: 0.12065684389995733 and parameters: {'max_depth': 9, 'learning_rate': 0.02168821524793489, 'n_estimators': 3933, 'min_child_weight': 8, 'colsample_bytree': 0.6431197703587916, 'subsample': 0.34847228942630604, 'reg_alpha': 0.3772235682923312, 'reg_lambda': 0.018882054193034632}. Best is trial 4 with value: 0.12065684389995733.\u001b[0m\n",
      "\u001b[32m[I 2023-05-02 22:36:17,352]\u001b[0m Trial 5 finished with value: 0.12097365527046396 and parameters: {'max_depth': 9, 'learning_rate': 0.011603727935719815, 'n_estimators': 4181, 'min_child_weight': 5, 'colsample_bytree': 0.7685366439894896, 'subsample': 0.8961711941270569, 'reg_alpha': 1.0346273259066996, 'reg_lambda': 0.00017495728181601207}. Best is trial 4 with value: 0.12065684389995733.\u001b[0m\n",
      "\u001b[32m[I 2023-05-02 22:37:43,649]\u001b[0m Trial 6 finished with value: 0.12186429682765716 and parameters: {'max_depth': 5, 'learning_rate': 0.033279031543781507, 'n_estimators': 4229, 'min_child_weight': 2, 'colsample_bytree': 0.5796129870408877, 'subsample': 0.7342565049451848, 'reg_alpha': 0.2531059527723942, 'reg_lambda': 15.542075793237206}. Best is trial 4 with value: 0.12065684389995733.\u001b[0m\n",
      "\u001b[32m[I 2023-05-02 22:40:17,471]\u001b[0m Trial 7 finished with value: 4.040186831623351 and parameters: {'max_depth': 8, 'learning_rate': 0.0001437697783553697, 'n_estimators': 7302, 'min_child_weight': 10, 'colsample_bytree': 0.9548053925391955, 'subsample': 0.5165684425599939, 'reg_alpha': 0.0386969972258877, 'reg_lambda': 0.026000523744511225}. Best is trial 4 with value: 0.12065684389995733.\u001b[0m\n",
      "\u001b[32m[I 2023-05-02 22:40:46,368]\u001b[0m Trial 8 finished with value: 5.142911152239084 and parameters: {'max_depth': 5, 'learning_rate': 0.0002515321841509875, 'n_estimators': 3223, 'min_child_weight': 3, 'colsample_bytree': 0.5820659279852021, 'subsample': 0.45651216276257456, 'reg_alpha': 4.726285472306025, 'reg_lambda': 0.00021514589103284045}. Best is trial 4 with value: 0.12065684389995733.\u001b[0m\n",
      "\u001b[32m[I 2023-05-02 22:42:08,459]\u001b[0m Trial 9 finished with value: 0.11772822192630494 and parameters: {'max_depth': 7, 'learning_rate': 0.006475375652955098, 'n_estimators': 3204, 'min_child_weight': 4, 'colsample_bytree': 0.661644106182441, 'subsample': 0.4858293477859202, 'reg_alpha': 0.0003412279387747247, 'reg_lambda': 0.06845941284732894}. Best is trial 9 with value: 0.11772822192630494.\u001b[0m\n",
      "\u001b[32m[I 2023-05-02 22:42:16,988]\u001b[0m Trial 10 finished with value: 1.3346254166891067 and parameters: {'max_depth': 7, 'learning_rate': 0.002593388513320525, 'n_estimators': 1041, 'min_child_weight': 7, 'colsample_bytree': 0.207432642560051, 'subsample': 0.22635699237546603, 'reg_alpha': 0.00010704504226589838, 'reg_lambda': 59.9250766850948}. Best is trial 9 with value: 0.11772822192630494.\u001b[0m\n",
      "\u001b[32m[I 2023-05-02 22:43:08,120]\u001b[0m Trial 11 finished with value: 0.1246539516897595 and parameters: {'max_depth': 9, 'learning_rate': 0.09904674567336469, 'n_estimators': 2620, 'min_child_weight': 8, 'colsample_bytree': 0.7307032009687773, 'subsample': 0.6143595864007344, 'reg_alpha': 0.014631963243268256, 'reg_lambda': 0.002803484508295777}. Best is trial 9 with value: 0.11772822192630494.\u001b[0m\n",
      "\u001b[32m[I 2023-05-02 22:44:08,454]\u001b[0m Trial 12 finished with value: 0.11881490659126688 and parameters: {'max_depth': 10, 'learning_rate': 0.007710092352491599, 'n_estimators': 2361, 'min_child_weight': 6, 'colsample_bytree': 0.443843282434504, 'subsample': 0.5820191696433757, 'reg_alpha': 0.003382619073400694, 'reg_lambda': 0.4783723863267577}. Best is trial 9 with value: 0.11772822192630494.\u001b[0m\n",
      "\u001b[32m[I 2023-05-02 22:44:48,020]\u001b[0m Trial 13 finished with value: 0.11998569276274446 and parameters: {'max_depth': 10, 'learning_rate': 0.004244896975168537, 'n_estimators': 1914, 'min_child_weight': 5, 'colsample_bytree': 0.4047302963364686, 'subsample': 0.6202060532468691, 'reg_alpha': 0.001155116038271721, 'reg_lambda': 0.8567642776237774}. Best is trial 9 with value: 0.11772822192630494.\u001b[0m\n",
      "\u001b[32m[I 2023-05-02 22:45:34,969]\u001b[0m Trial 14 finished with value: 0.11821158197380724 and parameters: {'max_depth': 7, 'learning_rate': 0.006342392858449833, 'n_estimators': 2324, 'min_child_weight': 4, 'colsample_bytree': 0.4583729936890347, 'subsample': 0.5108640738922877, 'reg_alpha': 0.0036501126490218992, 'reg_lambda': 0.3871840072596923}. Best is trial 9 with value: 0.11772822192630494.\u001b[0m\n",
      "\u001b[32m[I 2023-05-02 22:45:47,568]\u001b[0m Trial 15 finished with value: 3.09229415252429 and parameters: {'max_depth': 7, 'learning_rate': 0.0012280576842442121, 'n_estimators': 1074, 'min_child_weight': 3, 'colsample_bytree': 0.5099249404117613, 'subsample': 0.4885743136503915, 'reg_alpha': 0.00014388860986999324, 'reg_lambda': 0.20042051964046845}. Best is trial 9 with value: 0.11772822192630494.\u001b[0m\n",
      "\u001b[32m[I 2023-05-02 22:46:41,399]\u001b[0m Trial 16 finished with value: 0.11772807695331947 and parameters: {'max_depth': 7, 'learning_rate': 0.0050145179181888214, 'n_estimators': 3276, 'min_child_weight': 4, 'colsample_bytree': 0.2911472510260201, 'subsample': 0.6806406928363197, 'reg_alpha': 0.0009599860393480966, 'reg_lambda': 3.1051955345495443}. Best is trial 16 with value: 0.11772807695331947.\u001b[0m\n",
      "\u001b[32m[I 2023-05-02 22:47:12,667]\u001b[0m Trial 17 finished with value: 0.12734774628165588 and parameters: {'max_depth': 2, 'learning_rate': 0.0029262332140311633, 'n_estimators': 3285, 'min_child_weight': 2, 'colsample_bytree': 0.297907953275683, 'subsample': 0.6966558418703561, 'reg_alpha': 0.00038326516732412806, 'reg_lambda': 1.8566940574828708}. Best is trial 16 with value: 0.11772807695331947.\u001b[0m\n",
      "\u001b[32m[I 2023-05-02 22:48:14,228]\u001b[0m Trial 18 finished with value: 0.2685005762239531 and parameters: {'max_depth': 6, 'learning_rate': 0.0007911314526398584, 'n_estimators': 5025, 'min_child_weight': 4, 'colsample_bytree': 0.3306977195879263, 'subsample': 0.9418382261808077, 'reg_alpha': 0.0005870879650492938, 'reg_lambda': 2.198815792396487}. Best is trial 16 with value: 0.11772807695331947.\u001b[0m\n",
      "\u001b[32m[I 2023-05-02 22:49:16,767]\u001b[0m Trial 19 finished with value: 0.12137949609324424 and parameters: {'max_depth': 8, 'learning_rate': 0.00414708657891971, 'n_estimators': 3251, 'min_child_weight': 1, 'colsample_bytree': 0.3286789455583036, 'subsample': 0.6950075387261516, 'reg_alpha': 0.01395969781981756, 'reg_lambda': 3.974592208820966}. Best is trial 16 with value: 0.11772807695331947.\u001b[0m\n",
      "\u001b[32m[I 2023-05-02 22:50:05,353]\u001b[0m Trial 20 finished with value: 0.6744618400980044 and parameters: {'max_depth': 6, 'learning_rate': 0.0006045079444688917, 'n_estimators': 5933, 'min_child_weight': 3, 'colsample_bytree': 0.21710247593500942, 'subsample': 0.4297609908057261, 'reg_alpha': 0.0017317182053019303, 'reg_lambda': 93.64607629983438}. Best is trial 16 with value: 0.11772807695331947.\u001b[0m\n",
      "\u001b[32m[I 2023-05-02 22:50:45,913]\u001b[0m Trial 21 finished with value: 0.11775010650993864 and parameters: {'max_depth': 7, 'learning_rate': 0.006862293225348031, 'n_estimators': 1797, 'min_child_weight': 4, 'colsample_bytree': 0.49550907704843095, 'subsample': 0.5463564180332834, 'reg_alpha': 0.0018231397415964376, 'reg_lambda': 0.14848216053692945}. Best is trial 16 with value: 0.11772807695331947.\u001b[0m\n",
      "\u001b[32m[I 2023-05-02 22:51:23,833]\u001b[0m Trial 22 finished with value: 0.11865765545160123 and parameters: {'max_depth': 8, 'learning_rate': 0.012596264540771021, 'n_estimators': 1497, 'min_child_weight': 5, 'colsample_bytree': 0.5104753994904382, 'subsample': 0.5697182321396865, 'reg_alpha': 0.0003737421237666816, 'reg_lambda': 0.11971576909924234}. Best is trial 16 with value: 0.11772807695331947.\u001b[0m\n",
      "\u001b[32m[I 2023-05-02 22:52:26,703]\u001b[0m Trial 23 finished with value: 0.11701151731697476 and parameters: {'max_depth': 7, 'learning_rate': 0.0062027235852470325, 'n_estimators': 3033, 'min_child_weight': 4, 'colsample_bytree': 0.38579488147401797, 'subsample': 0.6327734475107897, 'reg_alpha': 0.005282080919253873, 'reg_lambda': 0.07564760672403721}. Best is trial 23 with value: 0.11701151731697476.\u001b[0m\n",
      "\u001b[32m[I 2023-05-02 22:53:30,031]\u001b[0m Trial 24 finished with value: 0.11558623349601539 and parameters: {'max_depth': 5, 'learning_rate': 0.00230692216859836, 'n_estimators': 3689, 'min_child_weight': 2, 'colsample_bytree': 0.38418131289882396, 'subsample': 0.6748603831817321, 'reg_alpha': 0.010766229191060277, 'reg_lambda': 0.006549832868215669}. Best is trial 24 with value: 0.11558623349601539.\u001b[0m\n",
      "\u001b[32m[I 2023-05-02 22:54:10,391]\u001b[0m Trial 25 finished with value: 0.1370165124458216 and parameters: {'max_depth': 5, 'learning_rate': 0.0018724039344708353, 'n_estimators': 2752, 'min_child_weight': 2, 'colsample_bytree': 0.268775784839169, 'subsample': 0.6589413927902512, 'reg_alpha': 0.008789269414390817, 'reg_lambda': 0.007175003459073713}. Best is trial 24 with value: 0.11558623349601539.\u001b[0m\n",
      "\u001b[32m[I 2023-05-02 22:55:03,171]\u001b[0m Trial 26 finished with value: 0.11581553611569566 and parameters: {'max_depth': 4, 'learning_rate': 0.00305577123401923, 'n_estimators': 3675, 'min_child_weight': 3, 'colsample_bytree': 0.3812509950366239, 'subsample': 0.7609566696333754, 'reg_alpha': 0.04734891718960477, 'reg_lambda': 0.0010150545147072547}. Best is trial 24 with value: 0.11558623349601539.\u001b[0m\n",
      "\u001b[32m[I 2023-05-02 22:55:57,987]\u001b[0m Trial 27 finished with value: 0.11598498085483011 and parameters: {'max_depth': 4, 'learning_rate': 0.0024547374344333207, 'n_estimators': 3857, 'min_child_weight': 2, 'colsample_bytree': 0.37582852285802404, 'subsample': 0.7584631776565257, 'reg_alpha': 0.06485825003782943, 'reg_lambda': 0.001725297671188952}. Best is trial 24 with value: 0.11558623349601539.\u001b[0m\n",
      "\u001b[32m[I 2023-05-02 22:57:01,430]\u001b[0m Trial 28 finished with value: 0.11605501428738134 and parameters: {'max_depth': 3, 'learning_rate': 0.002363547224225077, 'n_estimators': 5247, 'min_child_weight': 1, 'colsample_bytree': 0.36712533533658354, 'subsample': 0.7517251146584478, 'reg_alpha': 0.05740568237567089, 'reg_lambda': 0.0019196956515083385}. Best is trial 24 with value: 0.11558623349601539.\u001b[0m\n",
      "\u001b[32m[I 2023-05-02 22:57:54,352]\u001b[0m Trial 29 finished with value: 0.2770523147076215 and parameters: {'max_depth': 4, 'learning_rate': 0.0010029362778650006, 'n_estimators': 3841, 'min_child_weight': 2, 'colsample_bytree': 0.3715439359793992, 'subsample': 0.8246969502746885, 'reg_alpha': 0.1014770740444669, 'reg_lambda': 0.0006527923455607523}. Best is trial 24 with value: 0.11558623349601539.\u001b[0m\n",
      "\u001b[32m[I 2023-05-02 22:58:55,272]\u001b[0m Trial 30 finished with value: 0.11973049946029579 and parameters: {'max_depth': 3, 'learning_rate': 0.001716179566757825, 'n_estimators': 4730, 'min_child_weight': 3, 'colsample_bytree': 0.42861240014166674, 'subsample': 0.7435139876600421, 'reg_alpha': 0.0269853287486829, 'reg_lambda': 0.0007159902904853507}. Best is trial 24 with value: 0.11558623349601539.\u001b[0m\n",
      "\u001b[32m[I 2023-05-02 23:00:00,776]\u001b[0m Trial 31 finished with value: 0.11560217302930814 and parameters: {'max_depth': 3, 'learning_rate': 0.0027454059293803776, 'n_estimators': 5416, 'min_child_weight': 1, 'colsample_bytree': 0.3639512556978027, 'subsample': 0.7543021158013343, 'reg_alpha': 0.05603137517185325, 'reg_lambda': 0.002811176171869769}. Best is trial 24 with value: 0.11558623349601539.\u001b[0m\n",
      "\u001b[32m[I 2023-05-02 23:01:21,057]\u001b[0m Trial 32 finished with value: 0.11702146615379107 and parameters: {'max_depth': 2, 'learning_rate': 0.0032638201063522445, 'n_estimators': 7937, 'min_child_weight': 1, 'colsample_bytree': 0.3437248470992862, 'subsample': 0.8595700716523889, 'reg_alpha': 0.10366813161728983, 'reg_lambda': 0.006968940053059891}. Best is trial 24 with value: 0.11558623349601539.\u001b[0m\n",
      "\u001b[32m[I 2023-05-02 23:02:15,441]\u001b[0m Trial 33 finished with value: 0.1373735520402532 and parameters: {'max_depth': 4, 'learning_rate': 0.0013983063854077875, 'n_estimators': 3690, 'min_child_weight': 2, 'colsample_bytree': 0.3990591563626508, 'subsample': 0.7771433423919863, 'reg_alpha': 0.02513610814390192, 'reg_lambda': 0.001360798777977177}. Best is trial 24 with value: 0.11558623349601539.\u001b[0m\n",
      "\u001b[32m[I 2023-05-02 23:03:13,585]\u001b[0m Trial 34 finished with value: 0.11657416940943183 and parameters: {'max_depth': 3, 'learning_rate': 0.0022160507721689705, 'n_estimators': 5434, 'min_child_weight': 1, 'colsample_bytree': 0.2566266323039561, 'subsample': 0.818591123025513, 'reg_alpha': 0.07374773403670148, 'reg_lambda': 0.005129716856435999}. Best is trial 24 with value: 0.11558623349601539.\u001b[0m\n",
      "\u001b[32m[I 2023-05-02 23:04:51,949]\u001b[0m Trial 35 finished with value: 0.11664113940838769 and parameters: {'max_depth': 4, 'learning_rate': 0.0036058991154913527, 'n_estimators': 6363, 'min_child_weight': 2, 'colsample_bytree': 0.44390297101868487, 'subsample': 0.7883420738753434, 'reg_alpha': 0.3161243664498535, 'reg_lambda': 0.00043104885612015877}. Best is trial 24 with value: 0.11558623349601539.\u001b[0m\n",
      "\u001b[32m[I 2023-05-02 23:05:51,444]\u001b[0m Trial 36 finished with value: 0.5292329273644067 and parameters: {'max_depth': 5, 'learning_rate': 0.0006805036582993012, 'n_estimators': 4585, 'min_child_weight': 1, 'colsample_bytree': 0.322687138061794, 'subsample': 0.7155276712649801, 'reg_alpha': 0.1775708711103594, 'reg_lambda': 0.0031416172427746513}. Best is trial 24 with value: 0.11558623349601539.\u001b[0m\n",
      "\u001b[32m[I 2023-05-02 23:07:16,875]\u001b[0m Trial 37 finished with value: 0.12222559031722247 and parameters: {'max_depth': 4, 'learning_rate': 0.0013158869974910757, 'n_estimators': 6356, 'min_child_weight': 3, 'colsample_bytree': 0.3619039134408447, 'subsample': 0.8713766355294034, 'reg_alpha': 0.6521841874126484, 'reg_lambda': 0.0011886244052427208}. Best is trial 24 with value: 0.11558623349601539.\u001b[0m\n",
      "\u001b[32m[I 2023-05-02 23:08:04,175]\u001b[0m Trial 38 finished with value: 0.11699519840781657 and parameters: {'max_depth': 3, 'learning_rate': 0.0023654581628016437, 'n_estimators': 4223, 'min_child_weight': 2, 'colsample_bytree': 0.2735024126198782, 'subsample': 0.6607879959712006, 'reg_alpha': 0.03084848977822046, 'reg_lambda': 0.00010576088208250658}. Best is trial 24 with value: 0.11558623349601539.\u001b[0m\n",
      "\u001b[32m[I 2023-05-02 23:09:10,681]\u001b[0m Trial 39 finished with value: 0.11675530542573605 and parameters: {'max_depth': 5, 'learning_rate': 0.0032986405189056652, 'n_estimators': 3683, 'min_child_weight': 1, 'colsample_bytree': 0.47193577664448905, 'subsample': 0.7497362288167031, 'reg_alpha': 0.011721435907876294, 'reg_lambda': 0.018358657082939694}. Best is trial 24 with value: 0.11558623349601539.\u001b[0m\n",
      "\u001b[32m[I 2023-05-02 23:09:59,708]\u001b[0m Trial 40 finished with value: 0.12638943753115764 and parameters: {'max_depth': 2, 'learning_rate': 0.0018212831585341317, 'n_estimators': 4744, 'min_child_weight': 3, 'colsample_bytree': 0.41017858948988356, 'subsample': 0.7869757982016248, 'reg_alpha': 0.05099414447899007, 'reg_lambda': 0.0003969518895362476}. Best is trial 24 with value: 0.11558623349601539.\u001b[0m\n",
      "\u001b[32m[I 2023-05-02 23:11:03,084]\u001b[0m Trial 41 finished with value: 0.1169504147891384 and parameters: {'max_depth': 3, 'learning_rate': 0.0024991100314979823, 'n_estimators': 5285, 'min_child_weight': 1, 'colsample_bytree': 0.3726949401560878, 'subsample': 0.7502417159620837, 'reg_alpha': 0.15830142030975697, 'reg_lambda': 0.002029554895309743}. Best is trial 24 with value: 0.11558623349601539.\u001b[0m\n",
      "\u001b[32m[I 2023-05-02 23:12:36,248]\u001b[0m Trial 42 finished with value: 0.11533412856484244 and parameters: {'max_depth': 4, 'learning_rate': 0.004280155287898641, 'n_estimators': 5562, 'min_child_weight': 2, 'colsample_bytree': 0.5429658275201145, 'subsample': 0.7472044773953018, 'reg_alpha': 0.054744620294617526, 'reg_lambda': 0.001164431494492533}. Best is trial 42 with value: 0.11533412856484244.\u001b[0m\n",
      "\u001b[32m[I 2023-05-02 23:14:20,900]\u001b[0m Trial 43 finished with value: 0.11571752464501356 and parameters: {'max_depth': 4, 'learning_rate': 0.005024088498337769, 'n_estimators': 6376, 'min_child_weight': 2, 'colsample_bytree': 0.5157343997106615, 'subsample': 0.7253505663850662, 'reg_alpha': 0.1164537347840661, 'reg_lambda': 0.0010113630293448477}. Best is trial 42 with value: 0.11533412856484244.\u001b[0m\n",
      "\u001b[32m[I 2023-05-02 23:16:26,470]\u001b[0m Trial 44 finished with value: 0.1183720062439417 and parameters: {'max_depth': 5, 'learning_rate': 0.010541227548298258, 'n_estimators': 6493, 'min_child_weight': 2, 'colsample_bytree': 0.5528770425943966, 'subsample': 0.7018460682724789, 'reg_alpha': 0.4056315482893109, 'reg_lambda': 0.000869384102476236}. Best is trial 42 with value: 0.11533412856484244.\u001b[0m\n",
      "\u001b[32m[I 2023-05-02 23:18:34,519]\u001b[0m Trial 45 finished with value: 0.11671238539147882 and parameters: {'max_depth': 4, 'learning_rate': 0.00467988468953836, 'n_estimators': 7002, 'min_child_weight': 3, 'colsample_bytree': 0.6219383679937197, 'subsample': 0.8274910689033912, 'reg_alpha': 0.15547157013960122, 'reg_lambda': 0.0002892808286898786}. Best is trial 42 with value: 0.11533412856484244.\u001b[0m\n",
      "\u001b[32m[I 2023-05-02 23:20:29,108]\u001b[0m Trial 46 finished with value: 0.1212790462466224 and parameters: {'max_depth': 6, 'learning_rate': 0.009226795375553536, 'n_estimators': 5687, 'min_child_weight': 10, 'colsample_bytree': 0.5358498269928791, 'subsample': 0.7229177361918973, 'reg_alpha': 0.9405466788241538, 'reg_lambda': 0.00019383919419923364}. Best is trial 42 with value: 0.11533412856484244.\u001b[0m\n",
      "\u001b[32m[I 2023-05-02 23:22:30,771]\u001b[0m Trial 47 finished with value: 0.11949633808912612 and parameters: {'max_depth': 5, 'learning_rate': 0.017678917619307743, 'n_estimators': 6791, 'min_child_weight': 9, 'colsample_bytree': 0.4722481622536065, 'subsample': 0.6516501291687096, 'reg_alpha': 0.020985555195307204, 'reg_lambda': 0.0039007275633914716}. Best is trial 42 with value: 0.11533412856484244.\u001b[0m\n",
      "\u001b[32m[I 2023-05-02 23:24:19,930]\u001b[0m Trial 48 finished with value: 0.11622466693876629 and parameters: {'max_depth': 3, 'learning_rate': 0.004962343514017471, 'n_estimators': 7548, 'min_child_weight': 3, 'colsample_bytree': 0.5729978864876799, 'subsample': 0.6176088526932045, 'reg_alpha': 0.039267813632935904, 'reg_lambda': 0.009752400626726226}. Best is trial 42 with value: 0.11533412856484244.\u001b[0m\n",
      "\u001b[32m[I 2023-05-02 23:25:42,775]\u001b[0m Trial 49 finished with value: 0.11670099103774036 and parameters: {'max_depth': 4, 'learning_rate': 0.003666677019078995, 'n_estimators': 5633, 'min_child_weight': 6, 'colsample_bytree': 0.4288163276136168, 'subsample': 0.6736680900617203, 'reg_alpha': 0.007194421666771164, 'reg_lambda': 0.0031181184601783286}. Best is trial 42 with value: 0.11533412856484244.\u001b[0m\n",
      "\u001b[32m[I 2023-05-02 23:26:53,064]\u001b[0m Trial 50 finished with value: 0.12257499554844464 and parameters: {'max_depth': 2, 'learning_rate': 0.005153641858480856, 'n_estimators': 6161, 'min_child_weight': 2, 'colsample_bytree': 0.5299826679573088, 'subsample': 0.8022588410631463, 'reg_alpha': 2.1916103970193515, 'reg_lambda': 0.0010378735663290064}. Best is trial 42 with value: 0.11533412856484244.\u001b[0m\n",
      "\u001b[32m[I 2023-05-02 23:28:01,421]\u001b[0m Trial 51 finished with value: 0.11587346107481548 and parameters: {'max_depth': 4, 'learning_rate': 0.0028874653238150673, 'n_estimators': 4179, 'min_child_weight': 2, 'colsample_bytree': 0.49068236318719005, 'subsample': 0.7720070124881206, 'reg_alpha': 0.07081639789217256, 'reg_lambda': 0.0015793425658124855}. Best is trial 42 with value: 0.11533412856484244.\u001b[0m\n",
      "\u001b[32m[I 2023-05-02 23:29:35,558]\u001b[0m Trial 52 finished with value: 0.1167628234432928 and parameters: {'max_depth': 5, 'learning_rate': 0.0030898096643785272, 'n_estimators': 5043, 'min_child_weight': 1, 'colsample_bytree': 0.49098947058195147, 'subsample': 0.7228004425569369, 'reg_alpha': 0.1021662748009599, 'reg_lambda': 0.0005659596984091985}. Best is trial 42 with value: 0.11533412856484244.\u001b[0m\n",
      "\u001b[32m[I 2023-05-02 23:30:41,550]\u001b[0m Trial 53 finished with value: 0.11474377749252776 and parameters: {'max_depth': 4, 'learning_rate': 0.007421181857092173, 'n_estimators': 4222, 'min_child_weight': 2, 'colsample_bytree': 0.45870569566601394, 'subsample': 0.6993548505147719, 'reg_alpha': 0.018104702588272525, 'reg_lambda': 0.0023878845979143815}. Best is trial 53 with value: 0.11474377749252776.\u001b[0m\n",
      "\u001b[32m[I 2023-05-02 23:31:39,061]\u001b[0m Trial 54 finished with value: 0.11617614122805855 and parameters: {'max_depth': 3, 'learning_rate': 0.009264198464493164, 'n_estimators': 4426, 'min_child_weight': 3, 'colsample_bytree': 0.4528106722065127, 'subsample': 0.6842907103048549, 'reg_alpha': 0.017163394433076292, 'reg_lambda': 0.011374752829242253}. Best is trial 53 with value: 0.11474377749252776.\u001b[0m\n",
      "\u001b[32m[I 2023-05-02 23:32:29,763]\u001b[0m Trial 55 finished with value: 0.1146217495341839 and parameters: {'max_depth': 4, 'learning_rate': 0.007672855479228793, 'n_estimators': 3518, 'min_child_weight': 2, 'colsample_bytree': 0.41501557968748076, 'subsample': 0.6382438150527676, 'reg_alpha': 0.03719870481321402, 'reg_lambda': 0.033499268920103166}. Best is trial 55 with value: 0.1146217495341839.\u001b[0m\n",
      "\u001b[32m[I 2023-05-02 23:34:13,090]\u001b[0m Trial 56 finished with value: 0.11554788795329972 and parameters: {'max_depth': 5, 'learning_rate': 0.007390196060807549, 'n_estimators': 5952, 'min_child_weight': 1, 'colsample_bytree': 0.4253559500426566, 'subsample': 0.6054763192862977, 'reg_alpha': 0.02032544391308551, 'reg_lambda': 0.03317919833431875}. Best is trial 55 with value: 0.1146217495341839.\u001b[0m\n",
      "\u001b[32m[I 2023-05-02 23:35:50,435]\u001b[0m Trial 57 finished with value: 0.11678579745388455 and parameters: {'max_depth': 6, 'learning_rate': 0.013517926021270209, 'n_estimators': 4936, 'min_child_weight': 1, 'colsample_bytree': 0.4165718061111848, 'subsample': 0.6328227480255026, 'reg_alpha': 0.011530846169509498, 'reg_lambda': 0.030080109308010212}. Best is trial 55 with value: 0.1146217495341839.\u001b[0m\n",
      "\u001b[32m[I 2023-05-02 23:37:34,597]\u001b[0m Trial 58 finished with value: 0.11592199500722954 and parameters: {'max_depth': 5, 'learning_rate': 0.008176423310247878, 'n_estimators': 5848, 'min_child_weight': 1, 'colsample_bytree': 0.4515158271645582, 'subsample': 0.6103317223223534, 'reg_alpha': 0.0054551721336161, 'reg_lambda': 0.043204185691438295}. Best is trial 55 with value: 0.1146217495341839.\u001b[0m\n",
      "\u001b[32m[I 2023-05-02 23:38:47,369]\u001b[0m Trial 59 finished with value: 0.11774454851993858 and parameters: {'max_depth': 6, 'learning_rate': 0.006957850359642407, 'n_estimators': 4075, 'min_child_weight': 8, 'colsample_bytree': 0.40934944627886316, 'subsample': 0.5793674187334387, 'reg_alpha': 0.023144590852271718, 'reg_lambda': 0.013647935252727394}. Best is trial 55 with value: 0.1146217495341839.\u001b[0m\n",
      "\u001b[32m[I 2023-05-02 23:39:35,476]\u001b[0m Trial 60 finished with value: 0.11727572466167122 and parameters: {'max_depth': 5, 'learning_rate': 0.014698987677746994, 'n_estimators': 2837, 'min_child_weight': 7, 'colsample_bytree': 0.4308121558831316, 'subsample': 0.6496232416461297, 'reg_alpha': 0.033698765912752476, 'reg_lambda': 0.03314620741568907}. Best is trial 55 with value: 0.1146217495341839.\u001b[0m\n",
      "\u001b[32m[I 2023-05-02 23:41:22,825]\u001b[0m Trial 61 finished with value: 0.1156706628282569 and parameters: {'max_depth': 4, 'learning_rate': 0.006012321983962816, 'n_estimators': 6634, 'min_child_weight': 2, 'colsample_bytree': 0.5151032958275203, 'subsample': 0.707506889737524, 'reg_alpha': 0.015299067655484496, 'reg_lambda': 0.005203668765639503}. Best is trial 55 with value: 0.1146217495341839.\u001b[0m\n",
      "\u001b[32m[I 2023-05-02 23:42:51,803]\u001b[0m Trial 62 finished with value: 0.11516757226520687 and parameters: {'max_depth': 3, 'learning_rate': 0.007570117740061187, 'n_estimators': 6662, 'min_child_weight': 2, 'colsample_bytree': 0.48240118063596604, 'subsample': 0.6773854833477538, 'reg_alpha': 0.01734050225375982, 'reg_lambda': 0.005061900003656101}. Best is trial 55 with value: 0.1146217495341839.\u001b[0m\n",
      "\u001b[32m[I 2023-05-02 23:43:39,082]\u001b[0m Trial 63 finished with value: 0.11519862169583099 and parameters: {'max_depth': 3, 'learning_rate': 0.00814066903593655, 'n_estimators': 3476, 'min_child_weight': 1, 'colsample_bytree': 0.4753676820996315, 'subsample': 0.6758611072966583, 'reg_alpha': 0.008985105132528837, 'reg_lambda': 0.019822066576796332}. Best is trial 55 with value: 0.1146217495341839.\u001b[0m\n",
      "\u001b[32m[I 2023-05-02 23:44:26,126]\u001b[0m Trial 64 finished with value: 0.11543037969983183 and parameters: {'max_depth': 3, 'learning_rate': 0.010495401987414265, 'n_estimators': 3432, 'min_child_weight': 2, 'colsample_bytree': 0.47254177944926906, 'subsample': 0.5978606468480332, 'reg_alpha': 0.00829764937000964, 'reg_lambda': 0.05756772507250143}. Best is trial 55 with value: 0.1146217495341839.\u001b[0m\n",
      "\u001b[32m[I 2023-05-02 23:45:11,848]\u001b[0m Trial 65 finished with value: 0.11526002839111037 and parameters: {'max_depth': 3, 'learning_rate': 0.010931001668690961, 'n_estimators': 3493, 'min_child_weight': 1, 'colsample_bytree': 0.4777784625206834, 'subsample': 0.5960985352603894, 'reg_alpha': 0.00812909025182145, 'reg_lambda': 0.044943492319388365}. Best is trial 55 with value: 0.1146217495341839.\u001b[0m\n",
      "\u001b[32m[I 2023-05-02 23:45:38,625]\u001b[0m Trial 66 finished with value: 0.11631435520067729 and parameters: {'max_depth': 2, 'learning_rate': 0.02429284105093344, 'n_estimators': 2449, 'min_child_weight': 2, 'colsample_bytree': 0.476194579242878, 'subsample': 0.588680769507558, 'reg_alpha': 0.0029243339375039337, 'reg_lambda': 0.0686407529388906}. Best is trial 55 with value: 0.1146217495341839.\u001b[0m\n",
      "\u001b[32m[I 2023-05-02 23:46:26,335]\u001b[0m Trial 67 finished with value: 0.11655800786788384 and parameters: {'max_depth': 3, 'learning_rate': 0.010655940034718004, 'n_estimators': 3383, 'min_child_weight': 1, 'colsample_bytree': 0.5568906231979535, 'subsample': 0.5509771468531268, 'reg_alpha': 0.007368772190369754, 'reg_lambda': 0.01897291428042709}. Best is trial 55 with value: 0.1146217495341839.\u001b[0m\n",
      "\u001b[32m[I 2023-05-02 23:47:01,346]\u001b[0m Trial 68 finished with value: 0.11910656194751042 and parameters: {'max_depth': 2, 'learning_rate': 0.008561944643936179, 'n_estimators': 2956, 'min_child_weight': 3, 'colsample_bytree': 0.6035558497889968, 'subsample': 0.6514877811892859, 'reg_alpha': 0.0037262832023556673, 'reg_lambda': 0.09782797554107868}. Best is trial 55 with value: 0.1146217495341839.\u001b[0m\n",
      "\u001b[32m[I 2023-05-02 23:47:45,877]\u001b[0m Trial 69 finished with value: 0.11496636595194949 and parameters: {'max_depth': 3, 'learning_rate': 0.012215994622549079, 'n_estimators': 3462, 'min_child_weight': 2, 'colsample_bytree': 0.46351355636465486, 'subsample': 0.6328168302433971, 'reg_alpha': 0.009164270574113415, 'reg_lambda': 0.01761690736883302}. Best is trial 55 with value: 0.1146217495341839.\u001b[0m\n",
      "\u001b[32m[I 2023-05-02 23:48:45,149]\u001b[0m Trial 70 finished with value: 0.11621656974277708 and parameters: {'max_depth': 3, 'learning_rate': 0.016712014672975836, 'n_estimators': 4394, 'min_child_weight': 2, 'colsample_bytree': 0.5029046576828542, 'subsample': 0.6859168175223873, 'reg_alpha': 0.015436294628635352, 'reg_lambda': 0.02005301312053096}. Best is trial 55 with value: 0.1146217495341839.\u001b[0m\n",
      "\u001b[32m[I 2023-05-02 23:49:28,397]\u001b[0m Trial 71 finished with value: 0.1155334543735363 and parameters: {'max_depth': 3, 'learning_rate': 0.013408747305742064, 'n_estimators': 3325, 'min_child_weight': 2, 'colsample_bytree': 0.4739616904760192, 'subsample': 0.6309969954971774, 'reg_alpha': 0.006813240100960647, 'reg_lambda': 0.054512659244410934}. Best is trial 55 with value: 0.1146217495341839.\u001b[0m\n",
      "\u001b[32m[I 2023-05-02 23:50:08,943]\u001b[0m Trial 72 finished with value: 0.11749969952741596 and parameters: {'max_depth': 2, 'learning_rate': 0.01117529438015146, 'n_estimators': 3515, 'min_child_weight': 2, 'colsample_bytree': 0.5415548910165472, 'subsample': 0.5801996643269575, 'reg_alpha': 0.010214503696683742, 'reg_lambda': 0.0461126850330015}. Best is trial 55 with value: 0.1146217495341839.\u001b[0m\n",
      "\u001b[32m[I 2023-05-02 23:50:48,234]\u001b[0m Trial 73 finished with value: 0.11501269560111471 and parameters: {'max_depth': 3, 'learning_rate': 0.009567015088533781, 'n_estimators': 3077, 'min_child_weight': 1, 'colsample_bytree': 0.4530437530438669, 'subsample': 0.5939367889617724, 'reg_alpha': 0.004632389493270463, 'reg_lambda': 0.009583838817270512}. Best is trial 55 with value: 0.1146217495341839.\u001b[0m\n",
      "\u001b[32m[I 2023-05-02 23:51:27,244]\u001b[0m Trial 74 finished with value: 0.11596876652151031 and parameters: {'max_depth': 3, 'learning_rate': 0.006106130959187394, 'n_estimators': 3087, 'min_child_weight': 1, 'colsample_bytree': 0.45416873275856023, 'subsample': 0.5467328192946611, 'reg_alpha': 0.004487427475544933, 'reg_lambda': 0.010040656064833148}. Best is trial 55 with value: 0.1146217495341839.\u001b[0m\n",
      "\u001b[32m[I 2023-05-02 23:52:22,618]\u001b[0m Trial 75 finished with value: 0.11567289658194348 and parameters: {'max_depth': 3, 'learning_rate': 0.00824905424419397, 'n_estimators': 4006, 'min_child_weight': 1, 'colsample_bytree': 0.52708650388245, 'subsample': 0.6363676808010057, 'reg_alpha': 0.002943961164213667, 'reg_lambda': 0.02258915427631447}. Best is trial 55 with value: 0.1146217495341839.\u001b[0m\n",
      "\u001b[32m[I 2023-05-02 23:53:04,051]\u001b[0m Trial 76 finished with value: 0.11713593942140492 and parameters: {'max_depth': 4, 'learning_rate': 0.021198774195349608, 'n_estimators': 2600, 'min_child_weight': 1, 'colsample_bytree': 0.49144542316002787, 'subsample': 0.7031029019902795, 'reg_alpha': 0.040209276597723664, 'reg_lambda': 0.00716749838259714}. Best is trial 55 with value: 0.1146217495341839.\u001b[0m\n",
      "\u001b[32m[I 2023-05-02 23:53:27,515]\u001b[0m Trial 77 finished with value: 0.12553780799822545 and parameters: {'max_depth': 2, 'learning_rate': 0.0042195566647673845, 'n_estimators': 1999, 'min_child_weight': 1, 'colsample_bytree': 0.5687257045957462, 'subsample': 0.6142397213384183, 'reg_alpha': 0.0023439791006969308, 'reg_lambda': 0.014208740172114908}. Best is trial 55 with value: 0.1146217495341839.\u001b[0m\n",
      "\u001b[32m[I 2023-05-02 23:54:13,140]\u001b[0m Trial 78 finished with value: 0.1157573236058691 and parameters: {'max_depth': 3, 'learning_rate': 0.007368550579810829, 'n_estimators': 3545, 'min_child_weight': 3, 'colsample_bytree': 0.437990006469701, 'subsample': 0.6726437274316075, 'reg_alpha': 0.005168798756758321, 'reg_lambda': 0.009489436310196926}. Best is trial 55 with value: 0.1146217495341839.\u001b[0m\n",
      "\u001b[32m[I 2023-05-02 23:54:57,515]\u001b[0m Trial 79 finished with value: 0.11594613558673159 and parameters: {'max_depth': 4, 'learning_rate': 0.011936731817426735, 'n_estimators': 3152, 'min_child_weight': 4, 'colsample_bytree': 0.39579378819991845, 'subsample': 0.6651929306846358, 'reg_alpha': 0.02967587112391265, 'reg_lambda': 0.0044707314268099835}. Best is trial 55 with value: 0.1146217495341839.\u001b[0m\n"
     ]
    }
   ],
   "source": [
    "import optuna\n",
    "\n",
    "\n",
    "def objective(trial):\n",
    "    xgb_params = dict(\n",
    "        max_depth=trial.suggest_int(\"max_depth\", 2, 10),\n",
    "        learning_rate=trial.suggest_float(\"learning_rate\", 1e-4, 1e-1, log=True),\n",
    "        n_estimators=trial.suggest_int(\"n_estimators\", 1000, 8000),\n",
    "        min_child_weight=trial.suggest_int(\"min_child_weight\", 1, 10),\n",
    "        colsample_bytree=trial.suggest_float(\"colsample_bytree\", 0.2, 1.0),\n",
    "        subsample=trial.suggest_float(\"subsample\", 0.2, 1.0),\n",
    "        reg_alpha=trial.suggest_float(\"reg_alpha\", 1e-4, 1e2, log=True),\n",
    "        reg_lambda=trial.suggest_float(\"reg_lambda\", 1e-4, 1e2, log=True),\n",
    "    )\n",
    "    xgb = XGBRegressor(n_jobs=4, **xgb_params)\n",
    "    return score_dataset(X_train, y_train, xgb)\n",
    "\n",
    "\n",
    "study = optuna.create_study(direction=\"minimize\")\n",
    "study.optimize(objective, n_trials=80)\n",
    "xgb_params = study.best_params"
   ]
  },
  {
   "cell_type": "markdown",
   "id": "e8dc9a5a",
   "metadata": {
    "papermill": {
     "duration": 0.017641,
     "end_time": "2023-05-02T23:54:57.577137",
     "exception": false,
     "start_time": "2023-05-02T23:54:57.559496",
     "status": "completed"
    },
    "tags": []
   },
   "source": [
    "# Step 5 - Train Model and Create Submissions #\n",
    "\n",
    "Once you're satisfied with everything, it's time to create your final predictions! This cell will:\n",
    "- create your feature set from the original data\n",
    "- train XGBoost on the training data\n",
    "- use the trained model to make predictions from the test set\n",
    "- save the predictions to a CSV file"
   ]
  },
  {
   "cell_type": "code",
   "execution_count": 24,
   "id": "e29c8e62",
   "metadata": {
    "ExecuteTime": {
     "end_time": "2023-05-03T00:46:26.629878Z",
     "start_time": "2023-05-03T00:46:00.584915Z"
    },
    "execution": {
     "iopub.execute_input": "2023-05-02T23:54:57.613980Z",
     "iopub.status.busy": "2023-05-02T23:54:57.613602Z",
     "iopub.status.idle": "2023-05-02T23:55:49.454278Z",
     "shell.execute_reply": "2023-05-02T23:55:49.453021Z"
    },
    "papermill": {
     "duration": 51.87313,
     "end_time": "2023-05-02T23:55:49.467843",
     "exception": false,
     "start_time": "2023-05-02T23:54:57.594713",
     "status": "completed"
    },
    "tags": []
   },
   "outputs": [
    {
     "data": {
      "text/plain": [
       "0.1146217495341839"
      ]
     },
     "execution_count": 24,
     "metadata": {},
     "output_type": "execute_result"
    }
   ],
   "source": [
    "xgb = XGBRegressor(n_jobs=4, **xgb_params)\n",
    "score_dataset(X_train, y_train, xgb)"
   ]
  },
  {
   "cell_type": "code",
   "execution_count": 25,
   "id": "21b12d56",
   "metadata": {
    "ExecuteTime": {
     "end_time": "2023-05-03T00:19:40.124881Z",
     "start_time": "2023-05-03T00:19:32.702787Z"
    },
    "execution": {
     "iopub.execute_input": "2023-05-02T23:55:49.506392Z",
     "iopub.status.busy": "2023-05-02T23:55:49.505999Z",
     "iopub.status.idle": "2023-05-02T23:56:04.095095Z",
     "shell.execute_reply": "2023-05-02T23:56:04.094213Z"
    },
    "papermill": {
     "duration": 14.611148,
     "end_time": "2023-05-02T23:56:04.097246",
     "exception": false,
     "start_time": "2023-05-02T23:55:49.486098",
     "status": "completed"
    },
    "tags": []
   },
   "outputs": [
    {
     "name": "stdout",
     "output_type": "stream",
     "text": [
      "Your submission was successfully saved!\n"
     ]
    }
   ],
   "source": [
    "X_train, X_test = create_features(df_train, df_test)\n",
    "y_train = df_train.loc[:, \"SalePrice\"]\n",
    "\n",
    "xgb = XGBRegressor(n_jobs=4, **xgb_params)\n",
    "# XGB minimizes MSE, but competition loss is RMSLE\n",
    "# So, we need to log-transform y to train and exp-transform the predictions\n",
    "xgb.fit(X_train, np.log(y))\n",
    "predictions = np.exp(xgb.predict(X_test))\n",
    "\n",
    "output = pd.DataFrame({'Id': X_test.index, 'SalePrice': predictions})\n",
    "output.to_csv('submission.csv', index=False)\n",
    "print(\"Your submission was successfully saved!\")"
   ]
  }
 ],
 "metadata": {
  "kernelspec": {
   "display_name": "Python 3",
   "language": "python",
   "name": "python3"
  },
  "language_info": {
   "codemirror_mode": {
    "name": "ipython",
    "version": 3
   },
   "file_extension": ".py",
   "mimetype": "text/x-python",
   "name": "python",
   "nbconvert_exporter": "python",
   "pygments_lexer": "ipython3",
   "version": "3.10.10"
  },
  "papermill": {
   "default_parameters": {},
   "duration": 5339.229797,
   "end_time": "2023-05-02T23:56:05.246015",
   "environment_variables": {},
   "exception": null,
   "input_path": "__notebook__.ipynb",
   "output_path": "__notebook__.ipynb",
   "parameters": {},
   "start_time": "2023-05-02T22:27:06.016218",
   "version": "2.4.0"
  }
 },
 "nbformat": 4,
 "nbformat_minor": 5
}
